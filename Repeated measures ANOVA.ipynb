{
 "cells": [
  {
   "cell_type": "markdown",
   "metadata": {},
   "source": [
    "# Repeated measures ANOVA    \n",
    "\n",
    "Repeated measures ANOVA is the equivalent of one-way ANOVA, but for related, dependent groups, and its an extension of the [paired t-test](https://github.com/trangel/stats-with-python/blob/master/paired t-test.ipynb) to more than two repeated samples.    \n",
    "\n",
    "## Usage\n",
    "Repeated measures ANOVA is used in two kinds of experiments    \n",
    "1. to analyze changes in mean scores over 3+ time points\n",
    "2. to analyze differences in mean scores under 3+ different conditions    \n",
    "\n",
    "##Contents:    \n",
    "1. [Theory](#theory)   \n",
    "2. [Numerical example](#example)"
   ]
  },
  {
   "cell_type": "markdown",
   "metadata": {},
   "source": [
    "<a id='theory'></a>\n",
    "\n",
    "\n",
    "### Assumptions:\n",
    "1. The dependent variable must be continuous (interval/ratio)  \n",
    "2. The observations are independent of one another.   \n",
    "3. The dependent variable should be normally or approximately normally distributed.   \n",
    "4. The dependent variable should not contain outliers.   \n",
    "\n",
    "### Hypothesis\n",
    "Null hypothesis   \n",
    "$\\mathcal{H}_0$ : $\\mu_1 = \\mu_2 = \\mu_3 = \\dots  = \\mu_k$   \n",
    "for $k$ groups   \n",
    "\n",
    "Alternative hypothesis   \n",
    "$\\mathcal{H}_1$ :  at least two means are significantly different  \n",
    "\n",
    "### Test method    \n",
    "\n",
    "Steps     \n",
    "\n",
    "$k = $ number of groups (times or conditions)    \n",
    "$n = $ number of samples (must be equal for all groups)   \n",
    "\n",
    "#### Sum of squares    \n",
    "\n",
    "#### Sum of squares for groups $SS_\\textrm{groups}$ \n",
    "A group is a time or a condition   \n",
    "\n",
    "$SS_\\textrm{groups} = \\sum_{i=1}^k n_i(\\overline{x}_i - \\overline{x})^2$\n",
    "\n",
    "$n_i = $ number of subjects under each $i^\\textrm{th}$ group  \n",
    "$\\overline{x}_i = $ mean score for each ($i^\\textrm{th}$ group  \n",
    "$\\overline{x} = $ grand mean\n",
    "\n",
    "##### Sum of squares within groups $SS_\\textrm{w}$\n",
    "This is calculated in the same way as in an independent ANOVA    \n",
    "\n",
    "$SS_\\textrm{w} = \\sum_1 ( x_{i1} - \\overline{x}_1)^2  \n",
    "+ \\sum_2 ( x_{i2} - \\overline{x}_2)^2  \n",
    "+ \\dots + \\sum_k ( x_{i2k} - \\overline{x}_k)^2 $\n",
    "\n",
    "\n",
    "##### Sum of squares for subjects $SS_\\textrm{subjects}$      \n",
    "We treat each subject as a level of an independent factor called subjects,   \n",
    "$SS_\\textrm{subjects} = k \\sum(\\overline{x}_i - \\overline{x})^2$   \n",
    "$\\overline{x}_i =$ mean of subject $i$    \n",
    "$\\overline{x} = $ grand mean\n",
    "\n",
    "##### Sum of squares error $SS_\\textrm{error}$    \n",
    "\n",
    "$SS_\\textrm{error} = SS_\\textrm{w} - SS_\\textrm{subjects}$\n",
    "\n",
    "\n",
    "#### Mean sum of squares    \n",
    "These are obtained by the sum of squares divided by the corresponding degrees of freedom   \n",
    "\n",
    "##### Mean sum of squares for groups $MS_\\textrm{groups}$    \n",
    "$MS_\\textrm{groups} = \\frac{\\displaystyle SS_\\textrm{groups}}{k-1}$\n",
    "\n",
    "##### Mean sum of squares for error $MS_\\textrm{error}$   \n",
    "$MS_\\textrm{error} = \\frac{\\displaystyle SS_\\textrm{error}}{(n-1)(k-1)}$\n",
    "\n",
    "#### $F$-statistic:    \n",
    "As in other tests, we calculate an $F$-statistic   \n",
    "\n",
    "$F = \\frac{\\displaystyle MS_\\textrm{groups}}{\\displaystyle MS_\\textrm{error}}$ \n",
    "\n",
    "The above will become more evindent with the following numerical example      \n"
   ]
  },
  {
   "cell_type": "markdown",
   "metadata": {},
   "source": [
    "<a id='example'></a>\n",
    "## Numerical example    \n",
    "In this test, let's use a hypothethical example of blood glucose (BG) readings of persons with diabetes.    \n",
    "The test is done three times, say before, within and after a given clinical treatment and we want to know if there is a significant difference within the groups (times).     \n",
    "\n",
    "The database is not real but just to be used as a toy example.   \n",
    "This contains BG readings (in mg/dL) for 40 persons with diabetes at different times."
   ]
  },
  {
   "cell_type": "code",
   "execution_count": 1,
   "metadata": {},
   "outputs": [
    {
     "data": {
      "text/html": [
       "<div>\n",
       "<style>\n",
       "    .dataframe thead tr:only-child th {\n",
       "        text-align: right;\n",
       "    }\n",
       "\n",
       "    .dataframe thead th {\n",
       "        text-align: left;\n",
       "    }\n",
       "\n",
       "    .dataframe tbody tr th {\n",
       "        vertical-align: top;\n",
       "    }\n",
       "</style>\n",
       "<table border=\"1\" class=\"dataframe\">\n",
       "  <thead>\n",
       "    <tr style=\"text-align: right;\">\n",
       "      <th></th>\n",
       "      <th>before</th>\n",
       "      <th>during</th>\n",
       "      <th>after</th>\n",
       "    </tr>\n",
       "    <tr>\n",
       "      <th>Subject</th>\n",
       "      <th></th>\n",
       "      <th></th>\n",
       "      <th></th>\n",
       "    </tr>\n",
       "  </thead>\n",
       "  <tbody>\n",
       "    <tr>\n",
       "      <th>0</th>\n",
       "      <td>79.250358</td>\n",
       "      <td>73.749442</td>\n",
       "      <td>82.709670</td>\n",
       "    </tr>\n",
       "    <tr>\n",
       "      <th>1</th>\n",
       "      <td>96.597034</td>\n",
       "      <td>82.233706</td>\n",
       "      <td>82.867249</td>\n",
       "    </tr>\n",
       "    <tr>\n",
       "      <th>2</th>\n",
       "      <td>97.391662</td>\n",
       "      <td>83.178994</td>\n",
       "      <td>83.073182</td>\n",
       "    </tr>\n",
       "    <tr>\n",
       "      <th>3</th>\n",
       "      <td>97.437917</td>\n",
       "      <td>87.440005</td>\n",
       "      <td>83.498685</td>\n",
       "    </tr>\n",
       "    <tr>\n",
       "      <th>4</th>\n",
       "      <td>99.582073</td>\n",
       "      <td>87.637852</td>\n",
       "      <td>83.639062</td>\n",
       "    </tr>\n",
       "    <tr>\n",
       "      <th>5</th>\n",
       "      <td>106.973556</td>\n",
       "      <td>87.798634</td>\n",
       "      <td>85.972862</td>\n",
       "    </tr>\n",
       "    <tr>\n",
       "      <th>6</th>\n",
       "      <td>108.755841</td>\n",
       "      <td>90.425577</td>\n",
       "      <td>86.388565</td>\n",
       "    </tr>\n",
       "    <tr>\n",
       "      <th>7</th>\n",
       "      <td>109.856949</td>\n",
       "      <td>91.364563</td>\n",
       "      <td>86.533211</td>\n",
       "    </tr>\n",
       "    <tr>\n",
       "      <th>8</th>\n",
       "      <td>110.307037</td>\n",
       "      <td>92.284228</td>\n",
       "      <td>86.752302</td>\n",
       "    </tr>\n",
       "    <tr>\n",
       "      <th>9</th>\n",
       "      <td>111.015324</td>\n",
       "      <td>92.859387</td>\n",
       "      <td>87.690683</td>\n",
       "    </tr>\n",
       "    <tr>\n",
       "      <th>10</th>\n",
       "      <td>111.354548</td>\n",
       "      <td>94.473871</td>\n",
       "      <td>88.668044</td>\n",
       "    </tr>\n",
       "    <tr>\n",
       "      <th>11</th>\n",
       "      <td>111.530763</td>\n",
       "      <td>96.107012</td>\n",
       "      <td>88.832232</td>\n",
       "    </tr>\n",
       "    <tr>\n",
       "      <th>12</th>\n",
       "      <td>111.680026</td>\n",
       "      <td>98.595495</td>\n",
       "      <td>89.242364</td>\n",
       "    </tr>\n",
       "    <tr>\n",
       "      <th>13</th>\n",
       "      <td>112.867892</td>\n",
       "      <td>98.598082</td>\n",
       "      <td>89.551347</td>\n",
       "    </tr>\n",
       "    <tr>\n",
       "      <th>14</th>\n",
       "      <td>113.745639</td>\n",
       "      <td>98.668449</td>\n",
       "      <td>89.578608</td>\n",
       "    </tr>\n",
       "    <tr>\n",
       "      <th>15</th>\n",
       "      <td>114.263260</td>\n",
       "      <td>99.257202</td>\n",
       "      <td>89.976870</td>\n",
       "    </tr>\n",
       "    <tr>\n",
       "      <th>16</th>\n",
       "      <td>115.118794</td>\n",
       "      <td>100.419145</td>\n",
       "      <td>90.193064</td>\n",
       "    </tr>\n",
       "    <tr>\n",
       "      <th>17</th>\n",
       "      <td>115.269176</td>\n",
       "      <td>100.945361</td>\n",
       "      <td>90.544321</td>\n",
       "    </tr>\n",
       "    <tr>\n",
       "      <th>18</th>\n",
       "      <td>115.599247</td>\n",
       "      <td>101.080530</td>\n",
       "      <td>90.844503</td>\n",
       "    </tr>\n",
       "    <tr>\n",
       "      <th>19</th>\n",
       "      <td>120.393208</td>\n",
       "      <td>101.389965</td>\n",
       "      <td>90.969286</td>\n",
       "    </tr>\n",
       "    <tr>\n",
       "      <th>20</th>\n",
       "      <td>121.948551</td>\n",
       "      <td>101.535727</td>\n",
       "      <td>91.000900</td>\n",
       "    </tr>\n",
       "    <tr>\n",
       "      <th>21</th>\n",
       "      <td>122.530320</td>\n",
       "      <td>102.418184</td>\n",
       "      <td>91.497922</td>\n",
       "    </tr>\n",
       "    <tr>\n",
       "      <th>22</th>\n",
       "      <td>123.148471</td>\n",
       "      <td>102.809264</td>\n",
       "      <td>92.186919</td>\n",
       "    </tr>\n",
       "    <tr>\n",
       "      <th>23</th>\n",
       "      <td>123.569314</td>\n",
       "      <td>103.119240</td>\n",
       "      <td>92.188070</td>\n",
       "    </tr>\n",
       "    <tr>\n",
       "      <th>24</th>\n",
       "      <td>123.660453</td>\n",
       "      <td>103.259170</td>\n",
       "      <td>92.304400</td>\n",
       "    </tr>\n",
       "    <tr>\n",
       "      <th>25</th>\n",
       "      <td>126.885812</td>\n",
       "      <td>104.440974</td>\n",
       "      <td>92.383392</td>\n",
       "    </tr>\n",
       "    <tr>\n",
       "      <th>26</th>\n",
       "      <td>128.496115</td>\n",
       "      <td>104.639647</td>\n",
       "      <td>92.387572</td>\n",
       "    </tr>\n",
       "    <tr>\n",
       "      <th>27</th>\n",
       "      <td>130.499971</td>\n",
       "      <td>104.757823</td>\n",
       "      <td>92.657375</td>\n",
       "    </tr>\n",
       "    <tr>\n",
       "      <th>28</th>\n",
       "      <td>133.323962</td>\n",
       "      <td>104.877868</td>\n",
       "      <td>92.763379</td>\n",
       "    </tr>\n",
       "    <tr>\n",
       "      <th>29</th>\n",
       "      <td>134.065456</td>\n",
       "      <td>105.663513</td>\n",
       "      <td>93.083422</td>\n",
       "    </tr>\n",
       "    <tr>\n",
       "      <th>30</th>\n",
       "      <td>135.382230</td>\n",
       "      <td>106.596187</td>\n",
       "      <td>93.094668</td>\n",
       "    </tr>\n",
       "    <tr>\n",
       "      <th>31</th>\n",
       "      <td>136.927011</td>\n",
       "      <td>106.865830</td>\n",
       "      <td>93.805091</td>\n",
       "    </tr>\n",
       "    <tr>\n",
       "      <th>32</th>\n",
       "      <td>137.452118</td>\n",
       "      <td>107.695771</td>\n",
       "      <td>94.271424</td>\n",
       "    </tr>\n",
       "    <tr>\n",
       "      <th>33</th>\n",
       "      <td>139.566750</td>\n",
       "      <td>108.590059</td>\n",
       "      <td>94.434368</td>\n",
       "    </tr>\n",
       "    <tr>\n",
       "      <th>34</th>\n",
       "      <td>140.683276</td>\n",
       "      <td>112.475066</td>\n",
       "      <td>95.563027</td>\n",
       "    </tr>\n",
       "    <tr>\n",
       "      <th>35</th>\n",
       "      <td>142.116238</td>\n",
       "      <td>113.281846</td>\n",
       "      <td>96.588032</td>\n",
       "    </tr>\n",
       "    <tr>\n",
       "      <th>36</th>\n",
       "      <td>142.475077</td>\n",
       "      <td>113.459007</td>\n",
       "      <td>96.623005</td>\n",
       "    </tr>\n",
       "    <tr>\n",
       "      <th>37</th>\n",
       "      <td>147.625708</td>\n",
       "      <td>115.518856</td>\n",
       "      <td>96.665745</td>\n",
       "    </tr>\n",
       "    <tr>\n",
       "      <th>38</th>\n",
       "      <td>148.448909</td>\n",
       "      <td>116.371424</td>\n",
       "      <td>96.686891</td>\n",
       "    </tr>\n",
       "    <tr>\n",
       "      <th>39</th>\n",
       "      <td>151.480060</td>\n",
       "      <td>120.529543</td>\n",
       "      <td>97.195356</td>\n",
       "    </tr>\n",
       "  </tbody>\n",
       "</table>\n",
       "</div>"
      ],
      "text/plain": [
       "             before      during      after\n",
       "Subject                                   \n",
       "0         79.250358   73.749442  82.709670\n",
       "1         96.597034   82.233706  82.867249\n",
       "2         97.391662   83.178994  83.073182\n",
       "3         97.437917   87.440005  83.498685\n",
       "4         99.582073   87.637852  83.639062\n",
       "5        106.973556   87.798634  85.972862\n",
       "6        108.755841   90.425577  86.388565\n",
       "7        109.856949   91.364563  86.533211\n",
       "8        110.307037   92.284228  86.752302\n",
       "9        111.015324   92.859387  87.690683\n",
       "10       111.354548   94.473871  88.668044\n",
       "11       111.530763   96.107012  88.832232\n",
       "12       111.680026   98.595495  89.242364\n",
       "13       112.867892   98.598082  89.551347\n",
       "14       113.745639   98.668449  89.578608\n",
       "15       114.263260   99.257202  89.976870\n",
       "16       115.118794  100.419145  90.193064\n",
       "17       115.269176  100.945361  90.544321\n",
       "18       115.599247  101.080530  90.844503\n",
       "19       120.393208  101.389965  90.969286\n",
       "20       121.948551  101.535727  91.000900\n",
       "21       122.530320  102.418184  91.497922\n",
       "22       123.148471  102.809264  92.186919\n",
       "23       123.569314  103.119240  92.188070\n",
       "24       123.660453  103.259170  92.304400\n",
       "25       126.885812  104.440974  92.383392\n",
       "26       128.496115  104.639647  92.387572\n",
       "27       130.499971  104.757823  92.657375\n",
       "28       133.323962  104.877868  92.763379\n",
       "29       134.065456  105.663513  93.083422\n",
       "30       135.382230  106.596187  93.094668\n",
       "31       136.927011  106.865830  93.805091\n",
       "32       137.452118  107.695771  94.271424\n",
       "33       139.566750  108.590059  94.434368\n",
       "34       140.683276  112.475066  95.563027\n",
       "35       142.116238  113.281846  96.588032\n",
       "36       142.475077  113.459007  96.623005\n",
       "37       147.625708  115.518856  96.665745\n",
       "38       148.448909  116.371424  96.686891\n",
       "39       151.480060  120.529543  97.195356"
      ]
     },
     "execution_count": 1,
     "metadata": {},
     "output_type": "execute_result"
    }
   ],
   "source": [
    "import pandas as pd\n",
    "import numpy as np\n",
    "# This is to print in markdown style\n",
    "from IPython.display import Markdown, display\n",
    "def printmd(string):\n",
    "    display(Markdown(string))\n",
    "\n",
    "df = pd.read_csv('./data/BG-db.csv',index_col=0)\n",
    "df.columns=['before','during','after']\n",
    "df.index.name='Subject'\n",
    "df"
   ]
  },
  {
   "cell_type": "code",
   "execution_count": 2,
   "metadata": {},
   "outputs": [
    {
     "data": {
      "image/png": "[encoded data removed]",
      "text/plain": [
       "<matplotlib.figure.Figure at 0x10bd4e518>"
      ]
     },
     "metadata": {},
     "output_type": "display_data"
    }
   ],
   "source": [
    "# Let's visualize the data\n",
    "import matplotlib as plt\n",
    "%matplotlib inline\n",
    "import seaborn as sns\n",
    "sns.set(style=\"ticks\")\n",
    "\n",
    "\n",
    "bins = np.arange(70,150,6)\n",
    "\n",
    "A = df['before'].values\n",
    "B = df['during'].values\n",
    "C = df['after'].values\n",
    "\n",
    "\n",
    "# Show the results of a linear regression within each dataset\n",
    "ax1 = sns.distplot(A,bins=bins,label='Before treatment')\n",
    "ax2 = sns.distplot(B,bins=bins,label='During treatment')\n",
    "ax3 = sns.distplot(C,bins=bins,label='After treatment')\n",
    "\n",
    "\n",
    "plt.pyplot.xlabel('BG level')\n",
    "plt.pyplot.ylabel('Distribution of BG levels')\n",
    "plt.pyplot.legend(bbox_to_anchor=(0.45, 0.95), loc=2, borderaxespad=0.)\n",
    "\n",
    "plt.pyplot.xlim((60,160))\n",
    "plt.pyplot.show()"
   ]
  },
  {
   "cell_type": "markdown",
   "metadata": {},
   "source": [
    "#### Sum of squares for groups $SS_\\textrm{groups}$ \n",
    "In this example, a group refers to a time (before, during or after treatment).      \n",
    "\n",
    "$SS_\\textrm{groups} = \\sum_{i=1}^k n_i(\\overline{x}_i - \\overline{x})^2$\n",
    "\n",
    "$n_i = $ number of subjects under each $i^\\textrm{th}$ group  \n",
    "$\\overline{x}_i = $ mean score for each ($i^\\textrm{th}$ group  \n",
    "$\\overline{x} = $ grand mean"
   ]
  },
  {
   "cell_type": "code",
   "execution_count": 3,
   "metadata": {},
   "outputs": [
    {
     "data": {
      "text/markdown": [
       "$\\overline{x}_1 = 121.232$"
      ],
      "text/plain": [
       "<IPython.core.display.Markdown object>"
      ]
     },
     "metadata": {},
     "output_type": "display_data"
    },
    {
     "data": {
      "text/markdown": [
       "$\\overline{x}_2 = 100.435$"
      ],
      "text/plain": [
       "<IPython.core.display.Markdown object>"
      ]
     },
     "metadata": {},
     "output_type": "display_data"
    },
    {
     "data": {
      "text/markdown": [
       "$\\overline{x}_3 = 90.623$"
      ],
      "text/plain": [
       "<IPython.core.display.Markdown object>"
      ]
     },
     "metadata": {},
     "output_type": "display_data"
    },
    {
     "data": {
      "text/markdown": [
       "$\\overline{x} = 104.097$"
      ],
      "text/plain": [
       "<IPython.core.display.Markdown object>"
      ]
     },
     "metadata": {},
     "output_type": "display_data"
    },
    {
     "data": {
      "text/markdown": [
       "$SS_{groups} = 19542.809$"
      ],
      "text/plain": [
       "<IPython.core.display.Markdown object>"
      ]
     },
     "metadata": {},
     "output_type": "display_data"
    }
   ],
   "source": [
    "# Calculate means for each group\n",
    "mu1 = df['before'].values.mean()\n",
    "mu2 = df['during'].values.mean()\n",
    "mu3 = df['after'].values.mean()\n",
    "\n",
    "#Grand mean\n",
    "mu = df.values.mean()\n",
    "\n",
    "printmd('$\\overline{{x}}_1 = {}$'.format(round(mu1,3)))\n",
    "printmd('$\\overline{{x}}_2 = {}$'.format(round(mu2,3)))\n",
    "printmd('$\\overline{{x}}_3 = {}$'.format(round(mu3,3)))\n",
    "printmd('$\\overline{{x}} = {}$'.format(round(mu,3)))\n",
    "\n",
    "# Number of samples for each group:\n",
    "n = len(df)\n",
    "# Here the number of samples is the same for all groups:\n",
    "n1 = n\n",
    "n2 = n\n",
    "n3 = n\n",
    "\n",
    "# SS groups:\n",
    "SSgroups= n1*(mu1-mu)**2 + n2*(mu2-mu)**2 + n3*(mu3-mu)**2\n",
    "printmd(\"$SS_{{groups}} = {}$\".format(round(SSgroups,3)))"
   ]
  },
  {
   "cell_type": "markdown",
   "metadata": {},
   "source": [
    "##### Sum of squares within groups $SS_\\textrm{w}$\n",
    "\n",
    "$SS_\\textrm{w} = \\sum_1 ( x_{i1} - \\overline{x}_1)^2  \n",
    "+ \\sum_2 ( x_{i2} - \\overline{x}_2)^2  \n",
    "+ \\dots + \\sum_k ( x_{i2k} - \\overline{x}_k)^2 $\n",
    "\n",
    "This might be more difficult to understand, so let's make this in steps.   \n",
    "Let's calculate the sum of squares for the first group   "
   ]
  },
  {
   "cell_type": "code",
   "execution_count": 4,
   "metadata": {},
   "outputs": [
    {
     "data": {
      "text/markdown": [
       "SS for group 1 =10410.204005249998"
      ],
      "text/plain": [
       "<IPython.core.display.Markdown object>"
      ]
     },
     "metadata": {},
     "output_type": "display_data"
    }
   ],
   "source": [
    "# Group 1 is a column of the dataset (Before):   \n",
    "group1 = df['before'].values\n",
    "# Take mean value for this group\n",
    "mu1 = group1.mean() \n",
    "# Now calculate sum (x - mu1)^2 for all x values in this group:\n",
    "ss_group1 = np.sum((group1-mu1)**2)\n",
    "printmd('SS for group 1 ={}'.format(ss_group1))"
   ]
  },
  {
   "cell_type": "markdown",
   "metadata": {},
   "source": [
    "Repeat the same operation for other groups, and the sum gives $SS_w$"
   ]
  },
  {
   "cell_type": "code",
   "execution_count": 5,
   "metadata": {},
   "outputs": [
    {
     "data": {
      "text/markdown": [
       "SS for group 2 =3895.803595844936"
      ],
      "text/plain": [
       "<IPython.core.display.Markdown object>"
      ]
     },
     "metadata": {},
     "output_type": "display_data"
    },
    {
     "data": {
      "text/markdown": [
       "SS for group 3 =657.2726913888212"
      ],
      "text/plain": [
       "<IPython.core.display.Markdown object>"
      ]
     },
     "metadata": {},
     "output_type": "display_data"
    },
    {
     "data": {
      "text/markdown": [
       "$SS_w = 14963.28$"
      ],
      "text/plain": [
       "<IPython.core.display.Markdown object>"
      ]
     },
     "metadata": {},
     "output_type": "display_data"
    }
   ],
   "source": [
    "group2 = df['during'].values\n",
    "# Take mean value for this group\n",
    "mu2 = group2.mean() \n",
    "# Now calculate sum (x - mu1)^2 for all x values in this group:\n",
    "ss_group2 = np.sum((group2-mu2)**2)\n",
    "printmd('SS for group 2 ={}'.format(ss_group2))\n",
    "#\n",
    "group3 = df['after'].values\n",
    "# Take mean value for this group\n",
    "mu3 = group3.mean() \n",
    "# Now calculate sum (x - mu1)^2 for all x values in this group:\n",
    "ss_group3 = np.sum((group3-mu3)**2)\n",
    "printmd('SS for group 3 ={}'.format(ss_group3))\n",
    "#\n",
    "SSw = ss_group1 + ss_group2 + ss_group3\n",
    "printmd('$SS_w = {}$'.format(round(SSw,3)))"
   ]
  },
  {
   "cell_type": "markdown",
   "metadata": {},
   "source": [
    "##### Sum of squares for subjects $SS_\\textrm{subjects}$      \n",
    "We treat each subject as a level of an independent factor called subjects,   \n",
    "$SS_\\textrm{subjects} = k \\sum(\\overline{x}_i - \\overline{x})^2$   \n",
    "$\\overline{x}_i =$ mean of subject $i$    \n",
    "$\\overline{x} = $ grand mean"
   ]
  },
  {
   "cell_type": "code",
   "execution_count": 6,
   "metadata": {},
   "outputs": [
    {
     "data": {
      "text/html": [
       "<div>\n",
       "<style>\n",
       "    .dataframe thead tr:only-child th {\n",
       "        text-align: right;\n",
       "    }\n",
       "\n",
       "    .dataframe thead th {\n",
       "        text-align: left;\n",
       "    }\n",
       "\n",
       "    .dataframe tbody tr th {\n",
       "        vertical-align: top;\n",
       "    }\n",
       "</style>\n",
       "<table border=\"1\" class=\"dataframe\">\n",
       "  <thead>\n",
       "    <tr style=\"text-align: right;\">\n",
       "      <th></th>\n",
       "      <th>before</th>\n",
       "      <th>during</th>\n",
       "      <th>after</th>\n",
       "      <th>Subject means</th>\n",
       "    </tr>\n",
       "    <tr>\n",
       "      <th>Subject</th>\n",
       "      <th></th>\n",
       "      <th></th>\n",
       "      <th></th>\n",
       "      <th></th>\n",
       "    </tr>\n",
       "  </thead>\n",
       "  <tbody>\n",
       "    <tr>\n",
       "      <th>0</th>\n",
       "      <td>79.250358</td>\n",
       "      <td>73.749442</td>\n",
       "      <td>82.709670</td>\n",
       "      <td>78.569823</td>\n",
       "    </tr>\n",
       "    <tr>\n",
       "      <th>1</th>\n",
       "      <td>96.597034</td>\n",
       "      <td>82.233706</td>\n",
       "      <td>82.867249</td>\n",
       "      <td>87.232663</td>\n",
       "    </tr>\n",
       "    <tr>\n",
       "      <th>2</th>\n",
       "      <td>97.391662</td>\n",
       "      <td>83.178994</td>\n",
       "      <td>83.073182</td>\n",
       "      <td>87.881279</td>\n",
       "    </tr>\n",
       "    <tr>\n",
       "      <th>3</th>\n",
       "      <td>97.437917</td>\n",
       "      <td>87.440005</td>\n",
       "      <td>83.498685</td>\n",
       "      <td>89.458869</td>\n",
       "    </tr>\n",
       "    <tr>\n",
       "      <th>4</th>\n",
       "      <td>99.582073</td>\n",
       "      <td>87.637852</td>\n",
       "      <td>83.639062</td>\n",
       "      <td>90.286329</td>\n",
       "    </tr>\n",
       "  </tbody>\n",
       "</table>\n",
       "</div>"
      ],
      "text/plain": [
       "            before     during      after  Subject means\n",
       "Subject                                                \n",
       "0        79.250358  73.749442  82.709670      78.569823\n",
       "1        96.597034  82.233706  82.867249      87.232663\n",
       "2        97.391662  83.178994  83.073182      87.881279\n",
       "3        97.437917  87.440005  83.498685      89.458869\n",
       "4        99.582073  87.637852  83.639062      90.286329"
      ]
     },
     "execution_count": 6,
     "metadata": {},
     "output_type": "execute_result"
    }
   ],
   "source": [
    "# Let's calculate the subject means, i.e., the means for each row in our dataframe  \n",
    "\n",
    "def subject_mean(a,b,c):\n",
    "    '''Returns mean value of 3 numbers'''\n",
    "    return float((a+b+c)/3.0)\n",
    "\n",
    "df['Subject means'] = df.apply(lambda row: subject_mean(row['before'],row['during'],row['after']), axis = 1)\n",
    "df.head()"
   ]
  },
  {
   "cell_type": "code",
   "execution_count": 7,
   "metadata": {},
   "outputs": [
    {
     "data": {
      "text/markdown": [
       "$SS_{subjects} = 11855.0$"
      ],
      "text/plain": [
       "<IPython.core.display.Markdown object>"
      ]
     },
     "metadata": {},
     "output_type": "display_data"
    }
   ],
   "source": [
    "k=3.0\n",
    "subject_means = df['Subject means'].values\n",
    "SSsubjects = k * np.sum( (subject_means - mu)**2 )\n",
    "\n",
    "printmd('$SS_{{subjects}} = {}$'.format(round(SSsubjects,3)))"
   ]
  },
  {
   "cell_type": "markdown",
   "metadata": {},
   "source": [
    "##### Sum of squares error $SS_\\textrm{error}$    \n",
    "\n",
    "$SS_\\textrm{error} = SS_\\textrm{w} - SS_\\textrm{subjects}$\n"
   ]
  },
  {
   "cell_type": "code",
   "execution_count": 8,
   "metadata": {},
   "outputs": [
    {
     "data": {
      "text/markdown": [
       "$SS_{error} = 3108.28$"
      ],
      "text/plain": [
       "<IPython.core.display.Markdown object>"
      ]
     },
     "metadata": {},
     "output_type": "display_data"
    }
   ],
   "source": [
    "SSerror = SSw - SSsubjects\n",
    "printmd('$SS_{{error}} = {}$'.format(round(SSerror,3)))"
   ]
  },
  {
   "cell_type": "markdown",
   "metadata": {},
   "source": [
    "##### Determine MS and the F-statistic\n",
    "\n",
    "##### Mean sum of squares for groups $MS_\\textrm{groups}$    \n",
    "$MS_\\textrm{groups} = \\frac{\\displaystyle SS_\\textrm{groups}}{k-1}$\n",
    "\n",
    "##### Mean sum of squares for error $MS_\\textrm{error}$   \n",
    "$MS_\\textrm{error} = \\frac{\\displaystyle SS_\\textrm{error}}{(n-1)(k-1)}$\n",
    "\n",
    "#### $F$-statistic:    \n",
    "As in other tests, we calculate an $F$-statistic   \n",
    "\n",
    "$F = \\frac{\\displaystyle MS_\\textrm{groups}}{\\displaystyle MS_\\textrm{error}}$ \n"
   ]
  },
  {
   "cell_type": "code",
   "execution_count": 9,
   "metadata": {},
   "outputs": [
    {
     "data": {
      "text/markdown": [
       "$MS_{groups} = 9771.405$"
      ],
      "text/plain": [
       "<IPython.core.display.Markdown object>"
      ]
     },
     "metadata": {},
     "output_type": "display_data"
    },
    {
     "data": {
      "text/markdown": [
       "$MS_{error} = 39.85$"
      ],
      "text/plain": [
       "<IPython.core.display.Markdown object>"
      ]
     },
     "metadata": {},
     "output_type": "display_data"
    },
    {
     "data": {
      "text/markdown": [
       "$F$-statistic $= 245.206$"
      ],
      "text/plain": [
       "<IPython.core.display.Markdown object>"
      ]
     },
     "metadata": {},
     "output_type": "display_data"
    },
    {
     "data": {
      "text/markdown": [
       "DF1 = 2, DF2 = 78"
      ],
      "text/plain": [
       "<IPython.core.display.Markdown object>"
      ]
     },
     "metadata": {},
     "output_type": "display_data"
    }
   ],
   "source": [
    "# Degrees of freedom for groups:\n",
    "df1 = k-1\n",
    "# Degrees of freedom for error\n",
    "df2 = (n-1)*(k-1)\n",
    "\n",
    "MSgroups = SSgroups/df1\n",
    "\n",
    "MSerror = SSerror/df2\n",
    "\n",
    "Fstatistic = MSgroups/MSerror\n",
    "\n",
    "printmd('$MS_{{groups}} = {}$'.format(round(MSgroups,3)))\n",
    "printmd('$MS_{{error}} = {}$'.format(round(MSerror,3)))\n",
    "printmd('$F$-statistic $= {}$'.format(round(Fstatistic,3)))\n",
    "printmd('DF1 = {}, DF2 = {}'.format(int(df1),int(df2)))"
   ]
  },
  {
   "cell_type": "markdown",
   "metadata": {},
   "source": [
    "Now, look at the table for the probability associated to the F-statistic with degrees of freedom DF1 and DF2, and significance of 0.05  \n",
    "\n",
    "\n",
    "\n",
    "In this case,\n",
    "$F(2,78) = 245$   \n",
    "From the [F-distribution calculator](http://stattrek.com/online-calculator/f-distribution.aspx), the    \n",
    "p-value for $F > 245 = 0$, or virtually $0$\n",
    "Therefore, we can safely reject the null hypothesis.\n",
    "\n",
    "To my knowledge there is no scipy implementation of repeated measures ANOVA.  "
   ]
  },
  {
   "cell_type": "code",
   "execution_count": null,
   "metadata": {
    "collapsed": true
   },
   "outputs": [],
   "source": []
  }
 ],
 "metadata": {
  "kernelspec": {
   "display_name": "Python 3",
   "language": "python",
   "name": "python3"
  },
  "language_info": {
   "codemirror_mode": {
    "name": "ipython",
    "version": 3
   },
   "file_extension": ".py",
   "mimetype": "text/x-python",
   "name": "python",
   "nbconvert_exporter": "python",
   "pygments_lexer": "ipython3",
   "version": "3.6.1"
  }
 },
 "nbformat": 4,
 "nbformat_minor": 2
}
