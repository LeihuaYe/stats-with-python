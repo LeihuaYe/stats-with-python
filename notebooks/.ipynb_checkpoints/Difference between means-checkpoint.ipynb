{
 "cells": [
  {
   "cell_type": "markdown",
   "metadata": {},
   "source": [
    "# Difference between means\n",
    "\n",
    "Here I discuss how to make hypothesis tests for the difference between means.\n",
    "\n",
    "Several parametric methods are proposed:    \n",
    "\n",
    "1. [Parametric](#parametric)    \n",
    "    1.1 [t-test](#t-test)   \n",
    "    1.2 [Scipy's t-test](#scipy-t-test)   \n",
    "    1.3 [Cohen's d](#cohens-d)   \n",
    "2. [Bootstrapping](#bootstrapping)\n",
    "\n"
   ]
  },
  {
   "cell_type": "markdown",
   "metadata": {},
   "source": [
    "\n",
    "Which one to use?\n",
    "\n",
    "http://blog.minitab.com/blog/adventures-in-statistics-2/choosing-between-a-nonparametric-test-and-a-parametric-test"
   ]
  },
  {
   "cell_type": "markdown",
   "metadata": {},
   "source": [
    "<a id='parametric'></a>\n",
    "# Parametric tests.\n",
    "\n",
    "<a id='t-test'></a>\n",
    "## t-test\n",
    "\n",
    "### Assumptions:\n",
    "1. two independent random samples   \n",
    "2. each drawn from a normally distributed population  \n",
    "\n",
    "### Hypothesis\n",
    "|Set|\tNull hypothesis\t| Alternative hypothesis |No. of tails |\n",
    "|---|:-----------------:|:----------------------:|:-----------:|\n",
    "|1\t| $\\mu_1 - \\mu_2 = d$ | $\\mu_1 - \\mu_2 \\neq d$ |\t2|\n",
    "|2\t| $\\mu_1 - \\mu_2 > d$ | $\\mu_1 - \\mu_2 < d$ | 1|\n",
    "|3\t| $\\mu_1 - \\mu_2 < d$ | $\\mu_1 - \\mu_2 > d$ | 1|\n",
    "\n",
    "with $d$ being the difference between the two means.\n",
    "\n",
    "### Test method\n",
    "\n",
    "We will use the ** t-test ** method.   \n",
    "\n",
    "Steps:   \n",
    "\n",
    "Given two samples of size $n_1$ and $n_2$ and standard deviation $s_1$ and $s_2$, respectively, calculate the following:   \n",
    "\n",
    "#### Standard error (SE):   \n",
    "SE $ = \\sqrt{ (s_1^2/n_1) + (s_2^2/n_2) }$\n",
    "\n",
    "\n",
    "#### Degrees of freedom (DF):   \n",
    "DF $ = \\frac{( s_1^2/n_1 + s_2^2/n_2)^2 } {  (s_1^2 / n_1)^2 / (n_1 - 1)  + (s_2^2 / n_2)^2 / (n_2 - 1)  }$\n",
    "\n",
    "\n",
    "#### Test statistic:   \n",
    "$t = \\frac{ (x1 - x2) - d  }{ \\textrm{SE}}$\n",
    "\n",
    "\n",
    "**Note** If the population standard deviations ($\\sigma_1$ and $\\sigma_2$) are known, or if both sample sizes are 30 or larger (the central limit theorem is in effect), the test statistic is \n",
    "\n",
    "$z = \\frac{ (\\mu_1 - \\mu_2) - d  }{ \\textrm{SE}}$ ; SE $ = \\sqrt{ (\\sigma_1^2/n_1) + (\\sigma_2^2/n_2) }$\n",
    "\n",
    "\n",
    "Further reading:   \n",
    "[kean.edu](http://www.kean.edu/~fosborne/bstat/07b2means.html)   \n",
    "[stattrek.com](http://stattrek.com/hypothesis-test/difference-in-means.aspx?Tutorial=AP#) "
   ]
  },
  {
   "cell_type": "markdown",
   "metadata": {},
   "source": [
    "<a id='numerical-example'></a>\n",
    "### Numerical example\n",
    "\n",
    "Let's test if two normal distributions have different means.   \n",
    "\n",
    "Here I build sample normal distributions (sample1 and sample2) using numpy's random.normal function.   "
   ]
  },
  {
   "cell_type": "code",
   "execution_count": 1,
   "metadata": {},
   "outputs": [
    {
     "name": "stdout",
     "output_type": "stream",
     "text": [
      "Sample 1: mean = 1.034131198918862, std =1.9799415920251673\n",
      "Sample 2: mean = 1.1541708453673662, std =0.9972728961622446\n"
     ]
    }
   ],
   "source": [
    "import numpy as np\n",
    "from IPython.display import Markdown, display\n",
    "def printmd(string):\n",
    "    display(Markdown(string))\n",
    "\n",
    "# Let's construct two samples normally distributed with a given mean (mu) and standard deviations (std).   \n",
    "sample_size=3000\n",
    "\n",
    "mu = 1.0; std = 2.0;\n",
    "sample1 = np.random.normal(loc=mu, scale=std, size=sample_size)\n",
    "mu1 = sample1.mean(); std1 = sample1.std(); n1=len(sample1)\n",
    "print(\"Sample 1: mean = {}, std ={}\".format(mu1,std1))\n",
    "\n",
    "mu = 1.15; std=1.0;\n",
    "sample2 = np.random.normal(loc=mu, scale=std, size=sample_size)\n",
    "mu2 = sample2.mean(); std2 = sample2.std(); n2=len(sample2)\n",
    "print(\"Sample 2: mean = {}, std ={}\".format(mu2,std2))"
   ]
  },
  {
   "cell_type": "code",
   "execution_count": 2,
   "metadata": {},
   "outputs": [
    {
     "data": {
      "image/png": "[encoded data removed]",
      "text/plain": [
       "<matplotlib.figure.Figure at 0x102072470>"
      ]
     },
     "metadata": {},
     "output_type": "display_data"
    }
   ],
   "source": [
    "import matplotlib as plt\n",
    "%matplotlib inline\n",
    "import seaborn as sns\n",
    "sns.set(style=\"ticks\")\n",
    "\n",
    "# Load the example dataset for Anscombe's quartet\n",
    "#df = sns.load_dataset(\"anscombe\")\n",
    "\n",
    "bins = np.arange(-10,10,0.5)\n",
    "\n",
    "# Show the results of a linear regression within each dataset\n",
    "ax1 = sns.distplot(sample1,bins=bins)\n",
    "ax2 = sns.distplot(sample2,bins=bins)\n",
    "\n",
    "plt.pyplot.show()"
   ]
  },
  {
   "cell_type": "markdown",
   "metadata": {},
   "source": [
    "### Are the two distribution means significantly different?\n",
    "\n",
    "Null hypothesis    \n",
    "$\\mathcal{H}_0$ : $ \\mu_1 - \\mu_2 = 0$    \n",
    "\n",
    "Alternative hypothesis   \n",
    "$\\mathcal{H}_1$ : $ \\mu_1 - \\mu_2 \\neq 0$   \n",
    "\n",
    "This is a two-tailed test.   \n",
    "significance $\\alpha = 0.05$\n",
    "\n",
    "Compute the t-statistic."
   ]
  },
  {
   "cell_type": "code",
   "execution_count": 3,
   "metadata": {},
   "outputs": [
    {
     "name": "stdout",
     "output_type": "stream",
     "text": [
      "SE = 0.04\n"
     ]
    }
   ],
   "source": [
    "# Standard error\n",
    "SE = np.sqrt(std1**2/n1 + std2**2/n2)\n",
    "print(\"SE = {}\".format(round(SE,3)))"
   ]
  },
  {
   "cell_type": "code",
   "execution_count": 4,
   "metadata": {},
   "outputs": [
    {
     "name": "stdout",
     "output_type": "stream",
     "text": [
      "DF = 4428\n"
     ]
    }
   ],
   "source": [
    "# Degrees of freedom:\n",
    "denominator=((std1**2/n1)**2/(n1-1) + (std2**2/n2)**2/(n2-1))\n",
    "DF = (std1**2/n1 + std2**2/n2)**2/denominator\n",
    "print(\"DF = {}\".format(int(DF)))\n"
   ]
  },
  {
   "cell_type": "code",
   "execution_count": 5,
   "metadata": {},
   "outputs": [
    {
     "name": "stdout",
     "output_type": "stream",
     "text": [
      "t-statistc = -2.966\n"
     ]
    }
   ],
   "source": [
    "# test-statistic\n",
    "TestStatistic = (mu1 - mu2)/SE\n",
    "print(\"t-statistc = {}\".format(round(TestStatistic,3)))\n"
   ]
  },
  {
   "cell_type": "markdown",
   "metadata": {},
   "source": [
    "Since this is a two-tailed function, we need to test that:   \n",
    "$P = P( x < t) + P( x > t ) < \\alpha$     \n",
    "\n",
    "Since $P ( x < t) = P(x > t$,   \n",
    "$P = 2 P( x < t)$   \n",
    "where $t$ is our test-statistic\n",
    "\n",
    "Note we use significance $\\alpha =0.05$    "
   ]
  },
  {
   "cell_type": "code",
   "execution_count": 6,
   "metadata": {},
   "outputs": [
    {
     "data": {
      "text/markdown": [
       "t-score -2.97"
      ],
      "text/plain": [
       "<IPython.core.display.Markdown object>"
      ]
     },
     "metadata": {},
     "output_type": "display_data"
    },
    {
     "name": "stdout",
     "output_type": "stream",
     "text": [
      "p-value = 0.003\n"
     ]
    }
   ],
   "source": [
    "from scipy import stats\n",
    "pvalue = 2* stats.t.cdf(TestStatistic, DF)\n",
    "# Multiply by two, since this is two-tailed test\n",
    "\n",
    "printmd('t-score {}'.format(round(TestStatistic,2)))\n",
    "print(\"p-value = {}\".format(round(pvalue,3)))"
   ]
  },
  {
   "cell_type": "markdown",
   "metadata": {},
   "source": [
    "Our p-value is smaller than our significance value of 0.05, then we **reject** the null-hypothesis.\n",
    "\n",
    "\n",
    "<a id='scipy-t-test'></a>\n",
    "## Scipy's t-test\n",
    "t-test is also implemented in scipy."
   ]
  },
  {
   "cell_type": "code",
   "execution_count": 7,
   "metadata": {},
   "outputs": [
    {
     "data": {
      "text/markdown": [
       "t-score -2.97"
      ],
      "text/plain": [
       "<IPython.core.display.Markdown object>"
      ]
     },
     "metadata": {},
     "output_type": "display_data"
    },
    {
     "data": {
      "text/markdown": [
       "p-value 0.003"
      ],
      "text/plain": [
       "<IPython.core.display.Markdown object>"
      ]
     },
     "metadata": {},
     "output_type": "display_data"
    }
   ],
   "source": [
    "twosample_results = stats.ttest_ind(sample1, sample2)\n",
    "TestStatistic = twosample_results[0]\n",
    "pvalue = twosample_results[1]\n",
    "\n",
    "printmd('t-score {}'.format(round(TestStatistic,2)))\n",
    "printmd('p-value {}'.format(round(pvalue,4)))"
   ]
  },
  {
   "cell_type": "markdown",
   "metadata": {
    "collapsed": true
   },
   "source": [
    "These results agree with previous findings. Hence, we cannot reject the null hypothesis (see above).\n",
    "\n",
    "\n",
    "\n"
   ]
  },
  {
   "cell_type": "markdown",
   "metadata": {},
   "source": [
    "<a id='cohens-d'></a>\n",
    "## Cohen's d  \n",
    "\n",
    "Cohen's d is a statistical measure to indicate effect size. An effect size is how large an effect of an experiment (or something) is. This is used along with ANOVA or t-tests.  \n",
    "\n",
    "The formula of Cohen's d is:\n",
    "\n",
    "$d = (\\mu_1 - \\mu_2)/s_\\textrm{pooled}$\n",
    "\n",
    "$s_\\textrm{pooled}$ is the pooled standard deviation for two groups,    \n",
    "$s_\\textrm{pooled} = \\sqrt{(s_1^2 + s_2^2)/2}$\n",
    "\n",
    "Interpretation:\n",
    "The Cohen's d value is used to evaluate the effect size, but use this cautiosly,   \n",
    "\n",
    "* Small effect = 0.2\n",
    "* Medium effect = 0.5\n",
    "* Large effect $\\geq$ 0.8\n",
    "\n",
    "In terms of $r$, the suggested corresponding values are 0.10, 0.30, and 0.50.   \n",
    "\n",
    "To transform $d$ into the correlation coefficient $r$,   \n",
    "$r = \\frac{d}{\\sqrt{d^2 + 4}}$\n",
    "\n",
    "Note that Cohen's d is similar to the Hedges'g, which is also used to estimate the effect size,   \n",
    "$g = \\frac{d}{\\sqrt{N/\\textrm{DF}}}$   \n",
    "with $N=$ sample size, and degrees of freedom DF.  \n",
    "\n",
    "\n",
    "Further reading:   \n",
    "http://www.statisticshowto.com/hedges-g/   \n",
    "http://www.statisticshowto.com/cohens-d/\n",
    "\n",
    "\n",
    "References:   \n",
    "* Cohen, J. (1977). Statistical power analysis for the behavioral sciences. Routledge.\n",
    "* Durlak, J. (2009) How to Select, Calculate, and Interpret Effect Sizes. Journal of Pediatric Psychology. March: 34(9):917-28."
   ]
  },
  {
   "cell_type": "markdown",
   "metadata": {},
   "source": [
    "### Numerical example\n",
    "\n",
    "Let's evaluate the Cohen's d value for our numerical example (see [above](#numerical-example)). \n",
    "\n",
    "This metric will tell us how different are the two distributions in terms of standard deviations   "
   ]
  },
  {
   "cell_type": "code",
   "execution_count": 8,
   "metadata": {},
   "outputs": [
    {
     "name": "stdout",
     "output_type": "stream",
     "text": [
      "Cohen's d 0.08\n"
     ]
    }
   ],
   "source": [
    "# Evaluate Cohen's d  \n",
    "pooled_std = ((std2**2 + std1**2)/2.0)**0.5\n",
    "d = (mu2 - mu1)/pooled_std\n",
    "\n",
    "print('Cohen\\'s d {}'.format(round(d,2)))"
   ]
  },
  {
   "cell_type": "markdown",
   "metadata": {},
   "source": [
    "The Cohen's d is < 0.2, hence the two samples have a very small difference (small effect size).   "
   ]
  },
  {
   "cell_type": "markdown",
   "metadata": {
    "collapsed": true
   },
   "source": [
    "<a id='bootstrapping'></a>\n",
    "## Bootstrapping"
   ]
  },
  {
   "cell_type": "code",
   "execution_count": 9,
   "metadata": {
    "collapsed": true
   },
   "outputs": [],
   "source": [
    "from sklearn.utils import shuffle\n",
    "\n",
    "#Use same distributions as above:\n",
    "n1=len(sample1)\n",
    "n2=len(sample2)\n",
    "\n",
    "#Mege two samples:\n",
    "sample = np.concatenate((sample1,sample2))\n",
    "\n",
    "# Set number of bootstrapping random re-samples:\n",
    "resamples = 10000 #needs to be converged\n",
    "\n",
    "# Here we will accumulate mean values for all samples:\n",
    "mean_diffs = []\n",
    "for resample in range(resamples):\n",
    "    # Randomnly shuffle array\n",
    "    boot = shuffle(sample)\n",
    "    # Split samples for this resampling, \n",
    "    # set size equal to the original sample1 and sample2 sizes (n1, n2).\n",
    "    boot1 = boot[:n1]\n",
    "    boot2 = boot[n1:]\n",
    "    # mean absolute differences\n",
    "    mean_diff = abs(boot1.mean() - boot2.mean())\n",
    "    mean_diffs.append(mean_diff)\n",
    "    \n",
    "#convert to numpy array\n",
    "mean_diffs = np.array(mean_diffs)"
   ]
  },
  {
   "cell_type": "code",
   "execution_count": 10,
   "metadata": {},
   "outputs": [
    {
     "data": {
      "text/plain": [
       "<matplotlib.text.Text at 0x110988550>"
      ]
     },
     "execution_count": 10,
     "metadata": {},
     "output_type": "execute_result"
    },
    {
     "data": {
      "image/png": "[encoded data removed]",
      "text/plain": [
       "<matplotlib.figure.Figure at 0x1103c57b8>"
      ]
     },
     "metadata": {},
     "output_type": "display_data"
    }
   ],
   "source": [
    "# Compute CDF function:\n",
    "\n",
    "# sort the data:\n",
    "data = mean_diffs\n",
    "data_sorted = np.sort(data)\n",
    "\n",
    "# calculate the proportional values of samples\n",
    "p = 1. * np.arange(len(data)) / (len(data) - 1)\n",
    "\n",
    "plt.pyplot.plot(data_sorted,p)\n",
    "plt.pyplot.xlabel('Difference between means')\n",
    "plt.pyplot.ylabel('CDF')\n"
   ]
  },
  {
   "cell_type": "code",
   "execution_count": 11,
   "metadata": {
    "collapsed": true
   },
   "outputs": [],
   "source": [
    "# Use the above example to make a routine that will return \n",
    "# the probability for give sample x.\n",
    "def get_p_value(x,data):\n",
    "    \"\"\"Returns the p value for a given sample x\n",
    "    1. Builds CDF for a given distribution\n",
    "    2. Evaluates P(x) for the CDF\"\"\"\n",
    "    \n",
    "    data_sorted = np.sort(data)\n",
    "    n = len(data_sorted)\n",
    "    # calculate the proportional values of samples\n",
    "    p = 1. * np.arange(len(data)) / (len(data) - 1)\n",
    "    \n",
    "    # Evaluate the position of x in the distribution of sorted data:\n",
    "    # This is done in a naive way here:\n",
    "    ix = 0\n",
    "    while (( x > data_sorted[ix]) and ( ix < n-1 )): \n",
    "        ix = ix + 1\n",
    "        \n",
    "    return p[ix]"
   ]
  },
  {
   "cell_type": "code",
   "execution_count": 12,
   "metadata": {},
   "outputs": [
    {
     "name": "stdout",
     "output_type": "stream",
     "text": [
      "The difference between means is 0.12\n",
      "This event has a p-value of 0.0032\n"
     ]
    }
   ],
   "source": [
    "# Test the probability of the difference between means of samples 1 and 2:\n",
    "mean_diff = abs(sample1.mean() - sample2.mean())\n",
    "p_value = 1.0 - get_p_value(mean_diff,mean_diffs)\n",
    "print('The difference between means is {}'.format(round(mean_diff,3)))\n",
    "print(\"This event has a p-value of {}\".format(round(p_value,4)))"
   ]
  },
  {
   "cell_type": "markdown",
   "metadata": {},
   "source": [
    "Again, in agreement with the t-test above, the p-value is smaller than a significance of 0.05. Hence, we reject the null-hypothesis."
   ]
  }
 ],
 "metadata": {
  "kernelspec": {
   "display_name": "Python 3",
   "language": "python",
   "name": "python3"
  },
  "language_info": {
   "codemirror_mode": {
    "name": "ipython",
    "version": 3
   },
   "file_extension": ".py",
   "mimetype": "text/x-python",
   "name": "python",
   "nbconvert_exporter": "python",
   "pygments_lexer": "ipython3",
   "version": "3.6.1"
  }
 },
 "nbformat": 4,
 "nbformat_minor": 2
}
