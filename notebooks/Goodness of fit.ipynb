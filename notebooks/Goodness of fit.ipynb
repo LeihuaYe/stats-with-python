{
 "cells": [
  {
   "cell_type": "markdown",
   "metadata": {},
   "source": [
    "<a id='section5'></a>\n",
    "\n",
    "## Chi-square test\n",
    "\n",
    "Also called \"Goodness of fit test\".   \n",
    "This is also used to test if two distributions are consistent.   \n",
    "\n",
    "\n",
    "The test statistic (CV) is computed as    \n",
    "\n",
    "$\\chi^2 = \\sum_i (O_i - E_i)^2/E_i$\n",
    "\n",
    "where $O_i$ and $E_i$ are observed and expected frequency counts. \n",
    "\n",
    "after computing CV and degrees of freedom ($= n - 1$), we use the chi-square calculator to get the probability of P(chi2 $\\leq$ CV) http://stattrek.com/online-calculator/chi-square.aspx\n",
    "\n",
    "**Note** $\\chi^2$ is the ratio between non negative values, so we need to shift our data to the positive scale before doing chi-square tests."
   ]
  },
  {
   "cell_type": "markdown",
   "metadata": {},
   "source": [
    "### Toy exercise  \n",
    "\n",
    "Let's reproduce the example at\n",
    "http://stattrek.com/chi-square-test/goodness-of-fit.aspx?Tutorial=AP"
   ]
  },
  {
   "cell_type": "code",
   "execution_count": 1,
   "metadata": {},
   "outputs": [
    {
     "name": "stdout",
     "output_type": "stream",
     "text": [
      "19.5833333333\n",
      "Critical value for 95% confidence 5.99146454711\n",
      "P value     0.000056\n"
     ]
    }
   ],
   "source": [
    "import numpy as np\n",
    "from scipy import stats\n",
    "\n",
    "E=np.array([30,60,10])\n",
    "O=np.array([50,45,5])\n",
    "\n",
    "cv = np.sum((O-E)**2/E)\n",
    "print(cv)\n",
    "df=2\n",
    "crit = stats.chi2.ppf(q = 0.95, # Find the critical value for 95% confidence*\n",
    "                      df = df)   # *\n",
    "\n",
    "\n",
    "print(\"Critical value for 95% confidence\",crit)\n",
    "\n",
    "p_value = float(1.0 - stats.chi2.cdf(x=cv, df=df))\n",
    "print(\"P value %12.6f\" % p_value)"
   ]
  },
  {
   "cell_type": "markdown",
   "metadata": {},
   "source": [
    "Here we reproduce the findings in the web site, finding a small P value for this test.   \n",
    "Let's test normality for our X distribution.   \n",
    "This time we will compare X to a normal distribution with the mean value of X and same standard deviation."
   ]
  },
  {
   "cell_type": "markdown",
   "metadata": {},
   "source": [
    "### Scipy's $\\chi^2$ test\n",
    "\n",
    "Let's do the same test, using the scipy's implementation of $\\chi^2$ test\n",
    "\n",
    "\n"
   ]
  },
  {
   "cell_type": "code",
   "execution_count": 2,
   "metadata": {},
   "outputs": [
    {
     "data": {
      "text/plain": [
       "Power_divergenceResult(statistic=19.583333333333336, pvalue=5.5915626856371765e-05)"
      ]
     },
     "execution_count": 2,
     "metadata": {},
     "output_type": "execute_result"
    }
   ],
   "source": [
    "stats.chisquare(f_obs = O,f_exp = E)\n"
   ]
  }
 ],
 "metadata": {
  "kernelspec": {
   "display_name": "Python 3",
   "language": "python",
   "name": "python3"
  },
  "language_info": {
   "codemirror_mode": {
    "name": "ipython",
    "version": 3
   },
   "file_extension": ".py",
   "mimetype": "text/x-python",
   "name": "python",
   "nbconvert_exporter": "python",
   "pygments_lexer": "ipython3",
   "version": "3.6.1"
  }
 },
 "nbformat": 4,
 "nbformat_minor": 2
}
