{
 "cells": [
  {
   "cell_type": "markdown",
   "metadata": {},
   "source": [
    "# Normality test\n",
    "\n",
    "by Tonatiuh Rangel    \n",
    "\n",
    "## Contents   \n",
    "1. [Standarize data](#section1)\n",
    "2. [Q - Q test](#section2)   \n",
    "3. [Skew and kurtosis test](#section3)   \n",
    "5. [Kolmogorov-Smirnov test](#section4)   \n",
    "6. [Shapiro-Wilk test](#Shapiro_Wilk_test)    \n",
    "7. [Anderson-Darling test](#Anderson_Darling_test)  \n",
    "\n",
    "\n",
    "In this notebook, I go through several normality tests.   \n",
    "The goal here is to test whether a given distribution is normal.   "
   ]
  },
  {
   "cell_type": "markdown",
   "metadata": {},
   "source": [
    "<a id='section1'></a>\n",
    "## Standarize data\n",
    "For this notebook, I use a dataset of documents, containing the document id, and its readability score.   \n",
    "The readability score tells how complex is a text to be read.   \n",
    "The contents of the dataset are not important here.   \n"
   ]
  },
  {
   "cell_type": "code",
   "execution_count": 1,
   "metadata": {},
   "outputs": [
    {
     "data": {
      "text/html": [
       "<div>\n",
       "<style>\n",
       "    .dataframe thead tr:only-child th {\n",
       "        text-align: right;\n",
       "    }\n",
       "\n",
       "    .dataframe thead th {\n",
       "        text-align: left;\n",
       "    }\n",
       "\n",
       "    .dataframe tbody tr th {\n",
       "        vertical-align: top;\n",
       "    }\n",
       "</style>\n",
       "<table border=\"1\" class=\"dataframe\">\n",
       "  <thead>\n",
       "    <tr style=\"text-align: right;\">\n",
       "      <th></th>\n",
       "      <th>Readability</th>\n",
       "    </tr>\n",
       "    <tr>\n",
       "      <th>post id</th>\n",
       "      <th></th>\n",
       "    </tr>\n",
       "  </thead>\n",
       "  <tbody>\n",
       "    <tr>\n",
       "      <th>0</th>\n",
       "      <td>11.6</td>\n",
       "    </tr>\n",
       "    <tr>\n",
       "      <th>1</th>\n",
       "      <td>6.9</td>\n",
       "    </tr>\n",
       "    <tr>\n",
       "      <th>2</th>\n",
       "      <td>6.3</td>\n",
       "    </tr>\n",
       "    <tr>\n",
       "      <th>3</th>\n",
       "      <td>4.0</td>\n",
       "    </tr>\n",
       "    <tr>\n",
       "      <th>4</th>\n",
       "      <td>9.2</td>\n",
       "    </tr>\n",
       "  </tbody>\n",
       "</table>\n",
       "</div>"
      ],
      "text/plain": [
       "         Readability\n",
       "post id             \n",
       "0               11.6\n",
       "1                6.9\n",
       "2                6.3\n",
       "3                4.0\n",
       "4                9.2"
      ]
     },
     "execution_count": 1,
     "metadata": {},
     "output_type": "execute_result"
    }
   ],
   "source": [
    "# This is to print in markdown style\n",
    "from IPython.display import Markdown, display\n",
    "def printmd(string):\n",
    "    display(Markdown(string))\n",
    "\n",
    "import pandas as pd\n",
    "\n",
    "# Read dataset locally\n",
    "#df = pd.read_csv('../data/db-readability-length.csv', index_col=0)\n",
    "\n",
    "# Read dataset from url:\n",
    "import io\n",
    "import requests\n",
    "url=\"https://raw.githubusercontent.com/trangel/stats-with-python/master/data/db-readability-length.csv\"\n",
    "s=requests.get(url).content\n",
    "df=pd.read_csv(io.StringIO(s.decode('utf-8')),index_col=0)\n",
    "\n",
    "\n",
    "del df['Length']\n",
    "X = df['Readability'].values\n",
    "df.head()\n"
   ]
  },
  {
   "cell_type": "code",
   "execution_count": 2,
   "metadata": {
    "collapsed": true
   },
   "outputs": [],
   "source": [
    "import numpy as np\n",
    "# Sometimes it's important to remove outliers, as some of the tests don't work in presence of outliers\n",
    "# Only keep data in range 1 to 99 th percentile:\n",
    "X = df[df['Readability'].between(np.percentile(X,1), np.percentile(X,99), inclusive=True )].values\n"
   ]
  },
  {
   "cell_type": "code",
   "execution_count": 3,
   "metadata": {},
   "outputs": [
    {
     "name": "stderr",
     "output_type": "stream",
     "text": [
      "/Users/rangel/anaconda3/envs/cdips2017/lib/python3.6/site-packages/sklearn/preprocessing/data.py:586: DeprecationWarning: Passing 1d arrays as data is deprecated in 0.17 and will raise ValueError in 0.19. Reshape your data either using X.reshape(-1, 1) if your data has a single feature or X.reshape(1, -1) if it contains a single sample.\n",
      "  warnings.warn(DEPRECATION_MSG_1D, DeprecationWarning)\n",
      "/Users/rangel/anaconda3/envs/cdips2017/lib/python3.6/site-packages/sklearn/preprocessing/data.py:649: DeprecationWarning: Passing 1d arrays as data is deprecated in 0.17 and will raise ValueError in 0.19. Reshape your data either using X.reshape(-1, 1) if your data has a single feature or X.reshape(1, -1) if it contains a single sample.\n",
      "  warnings.warn(DEPRECATION_MSG_1D, DeprecationWarning)\n"
     ]
    }
   ],
   "source": [
    "# Standarize and sort data\n",
    "from sklearn.preprocessing import StandardScaler\n",
    "import numpy as np\n",
    "scaler = StandardScaler()\n",
    "\n",
    "X = X.reshape(len(X))\n",
    "X = scaler.fit_transform(X)\n",
    "X = np.sort(X)\n",
    "\n"
   ]
  },
  {
   "cell_type": "markdown",
   "metadata": {},
   "source": [
    "For comparison, I also get random normal distributions A and B."
   ]
  },
  {
   "cell_type": "code",
   "execution_count": 4,
   "metadata": {
    "collapsed": true
   },
   "outputs": [],
   "source": [
    "# Get also a normally distributed random sample:\n",
    "from scipy.stats import norm\n",
    "\n",
    "# Get random samples\n",
    "n = len(X)\n",
    "\n",
    "# Get random numbers, normaly distributed\n",
    "A = norm.rvs(size=n)\n",
    "A = np.sort(A)\n",
    "\n",
    "# Second normal distribution, for comparison\n",
    "B = norm.rvs(size=n)\n",
    "B = np.sort(B)\n"
   ]
  },
  {
   "cell_type": "markdown",
   "metadata": {},
   "source": [
    "Let's visualize the sample distributions we are working with in this notebook.   "
   ]
  },
  {
   "cell_type": "code",
   "execution_count": 5,
   "metadata": {},
   "outputs": [
    {
     "data": {
      "image/png": "[encoded data removed]",
      "text/plain": [
       "<matplotlib.figure.Figure at 0x11820b908>"
      ]
     },
     "metadata": {},
     "output_type": "display_data"
    }
   ],
   "source": [
    "import matplotlib as plt\n",
    "%matplotlib inline\n",
    "import seaborn as sns\n",
    "sns.set(style=\"ticks\")\n",
    "\n",
    "# Load the example dataset for Anscombe's quartet\n",
    "#df = sns.load_dataset(\"anscombe\")\n",
    "\n",
    "bins = np.arange(-10,10,0.5)\n",
    "\n",
    "# Show the results of a linear regression within each dataset\n",
    "ax1 = sns.distplot(A,bins=bins,label='Normal distribution A')\n",
    "ax2 = sns.distplot(B,bins=bins,label='Normal distribution B')\n",
    "ax3 = sns.distplot(X,bins=bins,label='X')\n",
    "\n",
    "plt.pyplot.xlabel('x')\n",
    "plt.pyplot.ylabel('Distribution')\n",
    "plt.pyplot.legend(bbox_to_anchor=(0.45, 0.95), loc=0, borderaxespad=0.)\n",
    "\n",
    "plt.pyplot.xlim((-10,10))\n",
    "plt.pyplot.show()"
   ]
  },
  {
   "cell_type": "markdown",
   "metadata": {},
   "source": [
    "<a id='section2' ></a>\n",
    "\n",
    "## Q - Q test   \n",
    "This is a visual test to tell whether two distributions are similar.   \n",
    "We plot the quartiles a given distribution vs. those of another distribution.  \n",
    "In this case, I compare X vs. a normal distribution to tell whether X is normal."
   ]
  },
  {
   "cell_type": "code",
   "execution_count": 6,
   "metadata": {
    "collapsed": true
   },
   "outputs": [],
   "source": [
    "def get_quartiles(X,Y):\n",
    "    \"\"\"Gets 100 quartiles for distributions X and Y\n",
    "    returns Q1, Q2 with the corresponding quartiles\"\"\"\n",
    "    # Get quartiles, 100 of them\n",
    "    Q1 = []; Q2=[]\n",
    "    nq = 10\n",
    "    n1 = len(X)\n",
    "    n2 = len(Y)\n",
    "    for i in range(nq):\n",
    "        j1 = int(i * n1/nq)\n",
    "        j2 = int(i * n2/nq)\n",
    "        # quartiles for the two distributions will be stored in X and Y respectively\n",
    "        Q1.append(X[j1])\n",
    "        Q2.append(Y[j2])\n",
    "    Q1 = np.array(Q1)\n",
    "    Q2 = np.array(Q2)\n",
    "    return Q1, Q2\n",
    "\n",
    "def plot_q_q(Q1,Q2):\n",
    "    \"\"\"Makes q-q plot\n",
    "    Input Quartiles for two distributions\"\"\"\n",
    "    import matplotlib.pyplot as plt\n",
    "    fig, ax = plt.subplots()\n",
    "    line1, = ax.plot(Q1, Q1, '--', linewidth=2,\n",
    "                 label='')\n",
    "    line2, = ax.plot(Q1,Q2, linestyle = 'dotted', linewidth = 4,\n",
    "                 label='Q-Q')\n",
    "    #ax.legend(loc='lower right')\n",
    "    ax.set_title('Q - Q plot')\n",
    "    ax.set_ylabel('Distribution 2')\n",
    "    ax.set_xlabel('Distribution 1')\n",
    "    plt.show()\n"
   ]
  },
  {
   "cell_type": "code",
   "execution_count": 7,
   "metadata": {},
   "outputs": [
    {
     "data": {
      "image/png": "[encoded data removed]",
      "text/plain": [
       "<matplotlib.figure.Figure at 0x11c256e80>"
      ]
     },
     "metadata": {},
     "output_type": "display_data"
    }
   ],
   "source": [
    "Q1, Q2 = get_quartiles(X,A)\n",
    "plot_q_q(Q1,Q2)\n"
   ]
  },
  {
   "cell_type": "markdown",
   "metadata": {},
   "source": [
    "With the above plot, Distribution X deviates from normal at lower values.\n",
    "  \n",
    "For comparison, let's do the same test with a distribution that we know is normal:"
   ]
  },
  {
   "cell_type": "code",
   "execution_count": 8,
   "metadata": {},
   "outputs": [
    {
     "data": {
      "image/png": "[encoded data removed]",
      "text/plain": [
       "<matplotlib.figure.Figure at 0x11c5bfb70>"
      ]
     },
     "metadata": {},
     "output_type": "display_data"
    }
   ],
   "source": [
    "Q1, Q2 = get_quartiles(A,B)\n",
    "plot_q_q(Q1,Q2)\n"
   ]
  },
  {
   "cell_type": "markdown",
   "metadata": {
    "collapsed": true
   },
   "source": [
    "<a id='section3'></a>\n",
    "## Skew and Kurtosis test\n",
    "\n",
    "Here I use the scipty stats implementation of the Ficher skew S and kurtosis K tests.   \n",
    "We want to know if skew and kurtosis of our sample differ significantly from those of a normal distribution.   \n",
    "\n",
    "### Skew test:\n",
    "$H_0$: skew = 0   \n",
    "$H_1$: skew $\\neq$ 0\n",
    "\n",
    "### Kurtosis test\n",
    "$H_0$: kurtosis = 0   \n",
    "$H_1$: kurtosis $\\neq$ 0   \n",
    "\n",
    "### p-values   \n",
    "We can then obtain the z-scores using:    \n",
    "$z_\\mathrm{skewness} = \\frac{S - 0}{\\mathrm{SE}_\\mathrm{skewness}}$\n",
    "\n",
    "$z_\\mathrm{kurtosis} = \\frac{K - 0}{\\mathrm{SE}_\\mathrm{kurtosis}}$\n",
    "\n",
    "The standard error for skewness and kurtosis can be obtained in any statistics package. Next, I use the implementation of numpy to get the p-values directly."
   ]
  },
  {
   "cell_type": "code",
   "execution_count": 9,
   "metadata": {},
   "outputs": [
    {
     "data": {
      "text/markdown": [
       "## Skew and Kurtosis tests for a random distribution"
      ],
      "text/plain": [
       "<IPython.core.display.Markdown object>"
      ]
     },
     "metadata": {},
     "output_type": "display_data"
    },
    {
     "data": {
      "text/markdown": [
       "#### Is our X distribution normal?"
      ],
      "text/plain": [
       "<IPython.core.display.Markdown object>"
      ]
     },
     "metadata": {},
     "output_type": "display_data"
    },
    {
     "name": "stdout",
     "output_type": "stream",
     "text": [
      "Normal skew test teststat     = 21.912 pvalue = 0.0000\n",
      "Normal kurtosis test teststat = 14.480 pvalue = 0.0000\n"
     ]
    },
    {
     "data": {
      "text/markdown": [
       "**Conclusion** The pvalue for both tests are zero, meaning that we can reject $H_0$\n"
      ],
      "text/plain": [
       "<IPython.core.display.Markdown object>"
      ]
     },
     "metadata": {},
     "output_type": "display_data"
    },
    {
     "data": {
      "text/markdown": [
       "This conclusion is telling that X is not normal"
      ],
      "text/plain": [
       "<IPython.core.display.Markdown object>"
      ]
     },
     "metadata": {},
     "output_type": "display_data"
    },
    {
     "data": {
      "text/markdown": [
       "#### Comparison of 2 normal distributions"
      ],
      "text/plain": [
       "<IPython.core.display.Markdown object>"
      ]
     },
     "metadata": {},
     "output_type": "display_data"
    },
    {
     "data": {
      "text/markdown": [
       "For the sake of comparison, we repeat the test for a distribution which is actually normal"
      ],
      "text/plain": [
       "<IPython.core.display.Markdown object>"
      ]
     },
     "metadata": {},
     "output_type": "display_data"
    },
    {
     "data": {
      "text/markdown": [
       "Skew and Kurtosis tests for a normal random distribution"
      ],
      "text/plain": [
       "<IPython.core.display.Markdown object>"
      ]
     },
     "metadata": {},
     "output_type": "display_data"
    },
    {
     "name": "stdout",
     "output_type": "stream",
     "text": [
      "Normal skew test teststat     =  0.499 pvalue = 0.6176\n",
      "Normal kurtosis test teststat = -0.738 pvalue = 0.4603\n"
     ]
    },
    {
     "data": {
      "text/markdown": [
       "**Conclusion** The pvalue for both tests are $>$ 0.05, so we accept $H_0$\n"
      ],
      "text/plain": [
       "<IPython.core.display.Markdown object>"
      ]
     },
     "metadata": {},
     "output_type": "display_data"
    },
    {
     "data": {
      "text/markdown": [
       "This means that A and B are similar, as expected since these two are actual normal distributions"
      ],
      "text/plain": [
       "<IPython.core.display.Markdown object>"
      ]
     },
     "metadata": {},
     "output_type": "display_data"
    }
   ],
   "source": [
    "from scipy import stats\n",
    "\n",
    "# Test our initial distribution\n",
    "printmd('## Skew and Kurtosis tests for a random distribution')\n",
    "printmd('#### Is our X distribution normal?')\n",
    "print('Normal skew test teststat     = %6.3f pvalue = %6.4f' % stats.skewtest(X))\n",
    "print('Normal kurtosis test teststat = %6.3f pvalue = %6.4f' % stats.kurtosistest(X))\n",
    "printmd('**Conclusion** The pvalue for both tests are zero, meaning that we can reject $H_0$\\n')\n",
    "printmd('This conclusion is telling that X is not normal')\n",
    "\n",
    "printmd('#### Comparison of 2 normal distributions')\n",
    "printmd('For the sake of comparison, we repeat the test for a distribution which is actually normal')\n",
    "printmd('Skew and Kurtosis tests for a normal random distribution')\n",
    "print('Normal skew test teststat     = %6.3f pvalue = %6.4f' % stats.skewtest(A))\n",
    "print('Normal kurtosis test teststat = %6.3f pvalue = %6.4f' % stats.kurtosistest(A))\n",
    "printmd('**Conclusion** The pvalue for both tests are $>$ 0.05, so we accept $H_0$\\n')\n",
    "printmd('This means that A and B are similar, as expected since these two are actual normal distributions')\n",
    "\n"
   ]
  },
  {
   "cell_type": "markdown",
   "metadata": {},
   "source": [
    "<a id='section4'></a>\n",
    "## Kolmogorov-Smirnov test   \n",
    "\n",
    "This test relies on computing the larger distance between two CDF distributions.   \n",
    "Let's look at the CDFs for a test X distribution and a normal distribution A, see [CDF](https://github.com/trangel/stats-with-python/blob/master/notebooks/CDF.ipynb).   "
   ]
  },
  {
   "cell_type": "code",
   "execution_count": 10,
   "metadata": {},
   "outputs": [
    {
     "name": "stdout",
     "output_type": "stream",
     "text": [
      "-2.11920877783 5.32355633139 0.01\n"
     ]
    },
    {
     "data": {
      "image/png": "[encoded data removed]",
      "text/plain": [
       "<matplotlib.figure.Figure at 0x11c3eb8d0>"
      ]
     },
     "metadata": {},
     "output_type": "display_data"
    }
   ],
   "source": [
    "# Get PDF function:\n",
    "import matplotlib as plt\n",
    "from scipy.stats import norm\n",
    "rv = norm()\n",
    "\n",
    "# calculate the proportional values of samples\n",
    "P = 1. * np.arange(len(X)) / (len(X) - 1)\n",
    "\n",
    "CDF2 = rv.cdf(A)\n",
    "xmax = X.max()\n",
    "xmin = X.min()\n",
    "xstep = 0.01\n",
    "\n",
    "print(xmin,xmax,xstep)\n",
    "\n",
    "xx = np.arange(xmin,xmax,xstep)\n",
    "\n",
    "fig, ax = plt.pyplot.subplots()\n",
    "\n",
    "ax.plot(X, P, 'g-', lw=5, alpha=0.6, label = 'CDF for X' )\n",
    "ax.plot(A, CDF2, 'r-', lw=5, alpha=0.6, label = 'CDF for normal distribution')\n",
    "\n",
    "#plt.xlim(-3,7)\n",
    "plt.pyplot.ylim(0,1)\n",
    "\n",
    "ax.legend(loc='right')\n",
    "#ax.set_title('PDF function')\n",
    "ax.set_ylabel('Distribution')\n",
    "ax.set_xlabel('x')\n",
    "\n",
    "\n",
    "plt.pyplot.show()\n"
   ]
  },
  {
   "cell_type": "code",
   "execution_count": 11,
   "metadata": {},
   "outputs": [
    {
     "data": {
      "text/plain": [
       "Ks_2sampResult(statistic=0.083220751148338379, pvalue=1.2754922856473964e-11)"
      ]
     },
     "execution_count": 11,
     "metadata": {},
     "output_type": "execute_result"
    }
   ],
   "source": [
    "stats.ks_2samp(X, A)"
   ]
  },
  {
   "cell_type": "markdown",
   "metadata": {},
   "source": [
    "The Kolmogorove-Smirnov test is also telling that X is significantly different from a normal distribution. This test is related to the larger difference between the 2 CDFs, compare green and red lines above.    \n",
    "\n",
    "As we saw in the Q-Q plot, the left-end fraction of the data (lowest values) deviate from a normal distribution, which may be the reason why the Kurtosis, Skew and KS tests tell give a low p-value.    \n"
   ]
  },
  {
   "cell_type": "markdown",
   "metadata": {},
   "source": [
    "<a id='Shapiro_Wilk_test'></a>   \n",
    "## Shapiro-Wilk test    \n",
    "\n",
    "The Shapiro-Wilk test is a powerful tell to test normality of a distribution.    \n",
    "Computation of the $a$ values in the test is more involved, so we will directly use the scipy's implementation.    \n",
    "\n",
    "Further reading    \n",
    "https://en.wikipedia.org/wiki/Shapiro%E2%80%93Wilk_test    \n"
   ]
  },
  {
   "cell_type": "code",
   "execution_count": 12,
   "metadata": {},
   "outputs": [
    {
     "data": {
      "text/plain": [
       "(0.9486389756202698, 3.8046096076462236e-34)"
      ]
     },
     "execution_count": 12,
     "metadata": {},
     "output_type": "execute_result"
    }
   ],
   "source": [
    "from scipy import stats\n",
    "stats.shapiro(X)"
   ]
  },
  {
   "cell_type": "markdown",
   "metadata": {},
   "source": [
    "Again in agreement with other tests, the p-value is low and thus we can reject the null hypothesis that the distribution is normal."
   ]
  },
  {
   "cell_type": "markdown",
   "metadata": {},
   "source": [
    "<a id='Anderson_Darling_test'></a>\n",
    "## Anderson-Darling test    \n",
    "\n",
    "The Anderson-Darling test is a modification of the Kolmogorov-Smirnov test for the null hypothesis that a sample is drawn from a population that follows a particular distribution.   \n"
   ]
  },
  {
   "cell_type": "code",
   "execution_count": 13,
   "metadata": {},
   "outputs": [
    {
     "data": {
      "text/plain": [
       "AndersonResult(statistic=33.926298546550242, critical_values=array([ 0.575,  0.655,  0.786,  0.917,  1.091]), significance_level=array([ 15. ,  10. ,   5. ,   2.5,   1. ]))"
      ]
     },
     "execution_count": 13,
     "metadata": {},
     "output_type": "execute_result"
    }
   ],
   "source": [
    "stats.anderson(X, dist='norm')"
   ]
  },
  {
   "cell_type": "markdown",
   "metadata": {},
   "source": [
    "Scipy gives lists of *significance levels* and their corresponding *critical values*, for which if the test-statistic is higher then we can reject the null hypothesis.    \n",
    "In this case, the test statistic is 33.9 much higher than the critical values reported (for any significance level from 1. to 15.). Therefore, we can safely reject the null hypothesis that the sample is drawn from a population with normal distribution.   "
   ]
  },
  {
   "cell_type": "markdown",
   "metadata": {
    "collapsed": true
   },
   "source": [
    "# Summary   \n",
    "\n",
    "* In this notebook, I revised a couple of methods to test if a distribution is normal.   \n",
    "* I test a real distribution X from my Insight project as a toy model.   \n",
    "* I show the usage of Skew, Kurtosis and Kolmogorov-Smirnov, Shapiro-Wilk and Anderson-Darling tests with scipy.    \n",
    "\n",
    "If you wonder which normality test may be better to use:    \n",
    "\n",
    "```Monte Carlo simulation has found that Shapiro–Wilk has the best power for a given significance, followed closely by Anderson–Darling when comparing the Shapiro–Wilk, Kolmogorov–Smirnov and Lilliefors tests [1].```\n",
    "\n",
    "[1] Razali, Nornadiah; Wah, Yap Bee (2011). \"Power comparisons of Shapiro–Wilk, Kolmogorov–Smirnov, Lilliefors and Anderson–Darling tests\" (PDF). Journal of Statistical Modeling and Analytics. 2 (1): 21–33. Retrieved 30 March 2017."
   ]
  },
  {
   "cell_type": "code",
   "execution_count": null,
   "metadata": {
    "collapsed": true
   },
   "outputs": [],
   "source": []
  }
 ],
 "metadata": {
  "kernelspec": {
   "display_name": "Python 3",
   "language": "python",
   "name": "python3"
  },
  "language_info": {
   "codemirror_mode": {
    "name": "ipython",
    "version": 3
   },
   "file_extension": ".py",
   "mimetype": "text/x-python",
   "name": "python",
   "nbconvert_exporter": "python",
   "pygments_lexer": "ipython3",
   "version": "3.6.1"
  }
 },
 "nbformat": 4,
 "nbformat_minor": 2
}
