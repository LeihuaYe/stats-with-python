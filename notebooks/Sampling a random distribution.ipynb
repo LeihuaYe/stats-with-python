{
 "cells": [
  {
   "cell_type": "markdown",
   "metadata": {
    "toc": "true"
   },
   "source": [
    "# Sampling a complex distribution function  \n",
    "\n",
    "by Emily Anderson   \n",
    "Modifications by Tonatiuh Rangel    \n",
    "\n",
    "In this notebook, we show how to sample on any given random distribution using *rejection sampling*    \n",
    "\n",
    "## Contents    \n",
    "\n",
    "1. [Defining our sample and desired functions](#defining_functions)\n",
    "2. [Rejection sampling](#rejection_sampling)"
   ]
  },
  {
   "cell_type": "code",
   "execution_count": 1,
   "metadata": {
    "collapsed": true
   },
   "outputs": [],
   "source": [
    "import numpy as np\n",
    "from scipy import stats\n",
    "import matplotlib.pyplot as plt\n",
    "%matplotlib inline"
   ]
  },
  {
   "cell_type": "markdown",
   "metadata": {},
   "source": [
    "<a id='defining_functions'></a>\n",
    "## Defining our sample and desired functions   \n",
    "Let's define a random complicated distribution that we would like to sample"
   ]
  },
  {
   "cell_type": "code",
   "execution_count": 2,
   "metadata": {
    "collapsed": true
   },
   "outputs": [],
   "source": [
    "# This is our desired PDF function\n",
    "def f(x):\n",
    "    '''This is a random function centered at 10'''\n",
    "    \n",
    "    xx = x - 10 #shift origin\n",
    "    if xx < 0:\n",
    "        y = 2**xx\n",
    "    elif xx >=0:\n",
    "        y =  0.5**xx\n",
    "    return y"
   ]
  },
  {
   "cell_type": "code",
   "execution_count": 3,
   "metadata": {},
   "outputs": [],
   "source": [
    "# Define a sample function    \n",
    "loc = 10\n",
    "scale = 2\n",
    "\n",
    "#Xnorm = stats.norm(loc=a,scale=scale)\n",
    "\n",
    "# A dgamma is similar to our desired function\n",
    "Xsample = stats.dgamma(a=0.5,loc=loc ,scale = scale)\n"
   ]
  },
  {
   "cell_type": "code",
   "execution_count": 4,
   "metadata": {
    "collapsed": true
   },
   "outputs": [],
   "source": [
    "# Let's define a grid from 0 to 20   \n",
    "x = np.linspace(0,20,100) \n",
    "\n",
    "# Get the desired PDF for that grid\n",
    "pdf=[]\n",
    "for xx in x:\n",
    "    pdf.append(f(xx))\n",
    "\n",
    "pdf = np.array(pdf)"
   ]
  },
  {
   "cell_type": "code",
   "execution_count": 5,
   "metadata": {},
   "outputs": [
    {
     "data": {
      "image/png": "[encoded data removed]",
      "text/plain": [
       "<matplotlib.figure.Figure at 0x10bf411d0>"
      ]
     },
     "metadata": {},
     "output_type": "display_data"
    }
   ],
   "source": [
    "ax = plt.plot(x, pdf,'r-', lw=5, alpha=0.6, label='X PDF')\n",
    "ax = plt.plot(x,Xsample.pdf(x),'b-',lw=3,alpha=0.6, label='Sample PDF')\n",
    "plt.legend(loc='best')\n",
    "plt.show()"
   ]
  },
  {
   "cell_type": "markdown",
   "metadata": {},
   "source": [
    "<a id='rejection_sampling'></a>   \n",
    "## Rejection sampling   \n",
    "We will now use a normal distribution to simulate our desired distribution   "
   ]
  },
  {
   "cell_type": "code",
   "execution_count": 6,
   "metadata": {},
   "outputs": [
    {
     "name": "stdout",
     "output_type": "stream",
     "text": [
      "scaling constant is 4.89155790229\n"
     ]
    },
    {
     "data": {
      "image/png": "[encoded data removed]",
      "text/plain": [
       "<matplotlib.figure.Figure at 0x10f270588>"
      ]
     },
     "metadata": {},
     "output_type": "display_data"
    }
   ],
   "source": [
    "#c is our scaling constant so that our proposed distribution (normal) envelops our\n",
    "#desired distribution (X)\n",
    "c = max(pdf/Xsample.pdf(x))\n",
    "print ('scaling constant is ' + str(c))\n",
    "\n",
    "\n",
    "plt.plot(x, c*Xsample.pdf(x),'r-', lw=5, alpha=0.6, label='scaled sample PDF')\n",
    "plt.plot(x,pdf,'b-',lw=3,alpha=0.6, label='X PDF')\n",
    "plt.legend(loc='best')\n",
    "plt.show()"
   ]
  },
  {
   "cell_type": "code",
   "execution_count": 7,
   "metadata": {},
   "outputs": [
    {
     "name": "stdout",
     "output_type": "stream",
     "text": [
      "Count 16932 Accepted 10000\n"
     ]
    }
   ],
   "source": [
    "N = 10000 # the total of samples we wish to generate\n",
    "accepted = 0 # the number of accepted samples\n",
    "samples = np.zeros(N)\n",
    "count = 0 # the total count of proposals\n",
    "\n",
    "# generation loop\n",
    "while (accepted < N):\n",
    "    \n",
    "    # draw a sample from our proposal distribution\n",
    "    sample = Xsample.rvs(1)\n",
    "    \n",
    "    # pick a uniform number on [0, 1)\n",
    "    y = np.random.uniform(0,1)\n",
    "    \n",
    "    # Do the accept/reject comparison\n",
    "    if y < f(sample)/(c*Xsample.pdf(sample)):\n",
    "        samples[accepted] = sample\n",
    "        accepted += 1\n",
    "    \n",
    "    count +=1\n",
    "    \n",
    "print(\"Count\", count, \"Accepted\", accepted)\n"
   ]
  },
  {
   "cell_type": "code",
   "execution_count": 9,
   "metadata": {},
   "outputs": [
    {
     "data": {
      "image/png": "[encoded data removed]",
      "text/plain": [
       "<matplotlib.figure.Figure at 0x10f4e62e8>"
      ]
     },
     "metadata": {},
     "output_type": "display_data"
    }
   ],
   "source": [
    "from scipy.linalg import norm\n",
    "\n",
    "bins = np.arange(0,20,0.1)\n",
    "\n",
    "# plot the histogram\n",
    "plt.hist(samples,bins=bins, label='Samples',normed=True);\n",
    "\n",
    "# Plot normalized PDF function\n",
    "plt.plot(x, pdf/norm(pdf), 'r', label='Desired function')\n",
    "\n",
    "# turn on the legend\n",
    "plt.legend()\n",
    "plt.show()"
   ]
  },
  {
   "cell_type": "code",
   "execution_count": null,
   "metadata": {
    "collapsed": true
   },
   "outputs": [],
   "source": []
  }
 ],
 "metadata": {
  "hide_input": false,
  "kernelspec": {
   "display_name": "Python 3",
   "language": "python",
   "name": "python3"
  },
  "language_info": {
   "codemirror_mode": {
    "name": "ipython",
    "version": 3
   },
   "file_extension": ".py",
   "mimetype": "text/x-python",
   "name": "python",
   "nbconvert_exporter": "python",
   "pygments_lexer": "ipython3",
   "version": "3.6.1"
  },
  "toc": {
   "colors": {
    "hover_highlight": "#DAA520",
    "navigate_num": "#000000",
    "navigate_text": "#333333",
    "running_highlight": "#FF0000",
    "selected_highlight": "#FFD700",
    "sidebar_border": "#EEEEEE",
    "wrapper_background": "#FFFFFF"
   },
   "moveMenuLeft": true,
   "nav_menu": {
    "height": "12px",
    "width": "252px"
   },
   "navigate_menu": true,
   "number_sections": true,
   "sideBar": true,
   "threshold": 4,
   "toc_cell": true,
   "toc_position": {
    "height": "622px",
    "left": "0px",
    "right": "1308.01px",
    "top": "108px",
    "width": "212px"
   },
   "toc_section_display": "block",
   "toc_window_display": true,
   "widenNotebook": false
  }
 },
 "nbformat": 4,
 "nbformat_minor": 2
}
