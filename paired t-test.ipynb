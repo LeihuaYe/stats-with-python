{
 "cells": [
  {
   "cell_type": "markdown",
   "metadata": {},
   "source": [
    "# Paired t-test   \n",
    "\n",
    ">Paired t-test is a statistical procedure used to determine whether the mean difference between two sets of observations is zero. In a paired sample t-test, each subject or entity is measured twice, resulting in pairs of observations. Source: [statisticssolutions](http://www.statisticssolutions.com/manova-analysis-paired-sample-t-test/)\n",
    "\n",
    "Paired t-test are used to, \n",
    "* Determine if a given medicine has an effect on patients, in which samples are collected before and after medication for the same people, and we can evaluate the statistical difference between samples    \n",
    "\n",
    "\n",
    "Contents:    \n",
    "1. [Theory](#theory)   \n",
    "2. [Numerical example](#example)\n",
    "3. [Scipy's example](#scipy)"
   ]
  },
  {
   "cell_type": "markdown",
   "metadata": {},
   "source": [
    "<a id='theory'></a>\n",
    "\n",
    "\n",
    "### Assumptions:\n",
    "1. The dependent variable must be continuous (interval/ratio)  \n",
    "2. The observations are independent of one another.   \n",
    "3. The dependent variable should be normally or approximately normally distributed.   \n",
    "4. The dependent variable should not contain outliers.   \n",
    "\n",
    "### Hypothesis\n",
    "|Set|\tNull hypothesis\t| Alternative hypothesis |No. of tails |\n",
    "|---|:-----------------:|:----------------------:|:-----------:|\n",
    "|1\t| $\\mu_1 - \\mu_2 = 0$ | $\\mu_1 - \\mu_2 \\neq 0$ |\t2|\n",
    "|2\t| $\\mu_1 - \\mu_2 > 0$ | $\\mu_1 - \\mu_2 < 0$ | 1|\n",
    "|3\t| $\\mu_1 - \\mu_2 < 0$ | $\\mu_1 - \\mu_2 > 0$ | 1|\n",
    "\n",
    "\n",
    "### Test method\n",
    "\n",
    "We will use the ** paired t-test ** method.   \n",
    "\n",
    "#### Steps:   \n",
    "\n",
    "We will use the following nomenclature:   \n",
    "\n",
    "$D =$   differences between two paired samples   \n",
    "$d_i =$ $i^{\\textrm{th}}$ observation in $D$     \n",
    "$n =$   sample size    \n",
    "$\\overline{d} =$ sample mean of the differences    \n",
    "$s_d =$ sample standard deviation of the differences   \n",
    "\n",
    "\n",
    "#### Standard error (SE):   \n",
    "SE$ =  \\frac{\\displaystyle s_d}{ \\sqrt{n}} $\n",
    "\n",
    "\n",
    "#### Degrees of freedom (DF):   \n",
    "DF $ = n-1$\n",
    "\n",
    "\n",
    "#### Test statistic:   \n",
    "$t = \\frac{\\displaystyle \\overline{d} }{\\displaystyle \\textrm{SE}}$\n",
    "\n",
    "\n"
   ]
  },
  {
   "cell_type": "markdown",
   "metadata": {},
   "source": [
    "<a id='example'></a>\n",
    "## Numerical example    \n",
    "In this test, let's use a hypothethical example of blood glucose (BG) readings of persons with diabetes.    \n",
    "The test is done twice, say before and after a given clinical treatment and we want to know if there is a significant difference after the treatment.     \n",
    "\n",
    "The database is not real but just to be used as a toy example.   \n",
    "This contains BG readings (in mg/dL) for 40 persons with diabetes at different times."
   ]
  },
  {
   "cell_type": "code",
   "execution_count": 1,
   "metadata": {},
   "outputs": [
    {
     "data": {
      "text/html": [
       "<div>\n",
       "<style>\n",
       "    .dataframe thead tr:only-child th {\n",
       "        text-align: right;\n",
       "    }\n",
       "\n",
       "    .dataframe thead th {\n",
       "        text-align: left;\n",
       "    }\n",
       "\n",
       "    .dataframe tbody tr th {\n",
       "        vertical-align: top;\n",
       "    }\n",
       "</style>\n",
       "<table border=\"1\" class=\"dataframe\">\n",
       "  <thead>\n",
       "    <tr style=\"text-align: right;\">\n",
       "      <th></th>\n",
       "      <th>BG 1</th>\n",
       "      <th>BG 2</th>\n",
       "    </tr>\n",
       "    <tr>\n",
       "      <th>Person ID</th>\n",
       "      <th></th>\n",
       "      <th></th>\n",
       "    </tr>\n",
       "  </thead>\n",
       "  <tbody>\n",
       "    <tr>\n",
       "      <th>0</th>\n",
       "      <td>79.250358</td>\n",
       "      <td>73.749442</td>\n",
       "    </tr>\n",
       "    <tr>\n",
       "      <th>1</th>\n",
       "      <td>96.597034</td>\n",
       "      <td>82.233706</td>\n",
       "    </tr>\n",
       "    <tr>\n",
       "      <th>2</th>\n",
       "      <td>97.391662</td>\n",
       "      <td>83.178994</td>\n",
       "    </tr>\n",
       "    <tr>\n",
       "      <th>3</th>\n",
       "      <td>97.437917</td>\n",
       "      <td>87.440005</td>\n",
       "    </tr>\n",
       "    <tr>\n",
       "      <th>4</th>\n",
       "      <td>99.582073</td>\n",
       "      <td>87.637852</td>\n",
       "    </tr>\n",
       "  </tbody>\n",
       "</table>\n",
       "</div>"
      ],
      "text/plain": [
       "                BG 1       BG 2\n",
       "Person ID                      \n",
       "0          79.250358  73.749442\n",
       "1          96.597034  82.233706\n",
       "2          97.391662  83.178994\n",
       "3          97.437917  87.440005\n",
       "4          99.582073  87.637852"
      ]
     },
     "execution_count": 1,
     "metadata": {},
     "output_type": "execute_result"
    }
   ],
   "source": [
    "import pandas as pd\n",
    "import numpy as np\n",
    "# This is to print in markdown style\n",
    "from IPython.display import Markdown, display\n",
    "def printmd(string):\n",
    "    display(Markdown(string))\n",
    "\n",
    "df = pd.read_csv('./data/BG-db.csv',index_col=0)\n",
    "del df['BG 3']\n",
    "df.head()"
   ]
  },
  {
   "cell_type": "code",
   "execution_count": 5,
   "metadata": {},
   "outputs": [
    {
     "data": {
      "image/png": "[encoded data removed]",
      "text/plain": [
       "<matplotlib.figure.Figure at 0x114c27748>"
      ]
     },
     "metadata": {},
     "output_type": "display_data"
    }
   ],
   "source": [
    "# Let's visualize the data\n",
    "import matplotlib as plt\n",
    "%matplotlib inline\n",
    "import seaborn as sns\n",
    "sns.set(style=\"ticks\")\n",
    "\n",
    "\n",
    "bins = np.arange(70,150,3)\n",
    "\n",
    "A = df['BG 1'].values\n",
    "B = df['BG 2'].values\n",
    "\n",
    "# Show the results of a linear regression within each dataset\n",
    "ax1 = sns.distplot(A,bins=bins,label='Before treatment')\n",
    "ax2 = sns.distplot(B,bins=bins,label='After treatment')\n",
    "\n",
    "plt.pyplot.xlabel('BG level')\n",
    "plt.pyplot.ylabel('Distribution of BG levels')\n",
    "plt.pyplot.legend(bbox_to_anchor=(0.45, 0.95), loc=2, borderaxespad=0.)\n",
    "\n",
    "plt.pyplot.xlim((70,150))\n",
    "plt.pyplot.show()"
   ]
  },
  {
   "cell_type": "markdown",
   "metadata": {},
   "source": [
    "Given this data, we want to know if the two BG readings taken at different times (BG1 and BG2) for the 40 persons with diabetes are significantly different.    \n",
    "\n",
    "Let's use a paired t-test as defined above.    \n",
    "First, we calculate the difference between BG readings"
   ]
  },
  {
   "cell_type": "code",
   "execution_count": 2,
   "metadata": {},
   "outputs": [
    {
     "data": {
      "text/html": [
       "<div>\n",
       "<style>\n",
       "    .dataframe thead tr:only-child th {\n",
       "        text-align: right;\n",
       "    }\n",
       "\n",
       "    .dataframe thead th {\n",
       "        text-align: left;\n",
       "    }\n",
       "\n",
       "    .dataframe tbody tr th {\n",
       "        vertical-align: top;\n",
       "    }\n",
       "</style>\n",
       "<table border=\"1\" class=\"dataframe\">\n",
       "  <thead>\n",
       "    <tr style=\"text-align: right;\">\n",
       "      <th></th>\n",
       "      <th>BG 1</th>\n",
       "      <th>BG 2</th>\n",
       "      <th>Difference</th>\n",
       "    </tr>\n",
       "    <tr>\n",
       "      <th>Person ID</th>\n",
       "      <th></th>\n",
       "      <th></th>\n",
       "      <th></th>\n",
       "    </tr>\n",
       "  </thead>\n",
       "  <tbody>\n",
       "    <tr>\n",
       "      <th>0</th>\n",
       "      <td>79.250358</td>\n",
       "      <td>73.749442</td>\n",
       "      <td>-5.500916</td>\n",
       "    </tr>\n",
       "    <tr>\n",
       "      <th>1</th>\n",
       "      <td>96.597034</td>\n",
       "      <td>82.233706</td>\n",
       "      <td>-14.363328</td>\n",
       "    </tr>\n",
       "    <tr>\n",
       "      <th>2</th>\n",
       "      <td>97.391662</td>\n",
       "      <td>83.178994</td>\n",
       "      <td>-14.212668</td>\n",
       "    </tr>\n",
       "    <tr>\n",
       "      <th>3</th>\n",
       "      <td>97.437917</td>\n",
       "      <td>87.440005</td>\n",
       "      <td>-9.997912</td>\n",
       "    </tr>\n",
       "    <tr>\n",
       "      <th>4</th>\n",
       "      <td>99.582073</td>\n",
       "      <td>87.637852</td>\n",
       "      <td>-11.944221</td>\n",
       "    </tr>\n",
       "    <tr>\n",
       "      <th>5</th>\n",
       "      <td>106.973556</td>\n",
       "      <td>87.798634</td>\n",
       "      <td>-19.174922</td>\n",
       "    </tr>\n",
       "    <tr>\n",
       "      <th>6</th>\n",
       "      <td>108.755841</td>\n",
       "      <td>90.425577</td>\n",
       "      <td>-18.330264</td>\n",
       "    </tr>\n",
       "    <tr>\n",
       "      <th>7</th>\n",
       "      <td>109.856949</td>\n",
       "      <td>91.364563</td>\n",
       "      <td>-18.492386</td>\n",
       "    </tr>\n",
       "    <tr>\n",
       "      <th>8</th>\n",
       "      <td>110.307037</td>\n",
       "      <td>92.284228</td>\n",
       "      <td>-18.022808</td>\n",
       "    </tr>\n",
       "    <tr>\n",
       "      <th>9</th>\n",
       "      <td>111.015324</td>\n",
       "      <td>92.859387</td>\n",
       "      <td>-18.155937</td>\n",
       "    </tr>\n",
       "    <tr>\n",
       "      <th>10</th>\n",
       "      <td>111.354548</td>\n",
       "      <td>94.473871</td>\n",
       "      <td>-16.880677</td>\n",
       "    </tr>\n",
       "    <tr>\n",
       "      <th>11</th>\n",
       "      <td>111.530763</td>\n",
       "      <td>96.107012</td>\n",
       "      <td>-15.423751</td>\n",
       "    </tr>\n",
       "    <tr>\n",
       "      <th>12</th>\n",
       "      <td>111.680026</td>\n",
       "      <td>98.595495</td>\n",
       "      <td>-13.084531</td>\n",
       "    </tr>\n",
       "    <tr>\n",
       "      <th>13</th>\n",
       "      <td>112.867892</td>\n",
       "      <td>98.598082</td>\n",
       "      <td>-14.269809</td>\n",
       "    </tr>\n",
       "    <tr>\n",
       "      <th>14</th>\n",
       "      <td>113.745639</td>\n",
       "      <td>98.668449</td>\n",
       "      <td>-15.077190</td>\n",
       "    </tr>\n",
       "    <tr>\n",
       "      <th>15</th>\n",
       "      <td>114.263260</td>\n",
       "      <td>99.257202</td>\n",
       "      <td>-15.006058</td>\n",
       "    </tr>\n",
       "    <tr>\n",
       "      <th>16</th>\n",
       "      <td>115.118794</td>\n",
       "      <td>100.419145</td>\n",
       "      <td>-14.699649</td>\n",
       "    </tr>\n",
       "    <tr>\n",
       "      <th>17</th>\n",
       "      <td>115.269176</td>\n",
       "      <td>100.945361</td>\n",
       "      <td>-14.323814</td>\n",
       "    </tr>\n",
       "    <tr>\n",
       "      <th>18</th>\n",
       "      <td>115.599247</td>\n",
       "      <td>101.080530</td>\n",
       "      <td>-14.518717</td>\n",
       "    </tr>\n",
       "    <tr>\n",
       "      <th>19</th>\n",
       "      <td>120.393208</td>\n",
       "      <td>101.389965</td>\n",
       "      <td>-19.003242</td>\n",
       "    </tr>\n",
       "    <tr>\n",
       "      <th>20</th>\n",
       "      <td>121.948551</td>\n",
       "      <td>101.535727</td>\n",
       "      <td>-20.412824</td>\n",
       "    </tr>\n",
       "    <tr>\n",
       "      <th>21</th>\n",
       "      <td>122.530320</td>\n",
       "      <td>102.418184</td>\n",
       "      <td>-20.112136</td>\n",
       "    </tr>\n",
       "    <tr>\n",
       "      <th>22</th>\n",
       "      <td>123.148471</td>\n",
       "      <td>102.809264</td>\n",
       "      <td>-20.339207</td>\n",
       "    </tr>\n",
       "    <tr>\n",
       "      <th>23</th>\n",
       "      <td>123.569314</td>\n",
       "      <td>103.119240</td>\n",
       "      <td>-20.450074</td>\n",
       "    </tr>\n",
       "    <tr>\n",
       "      <th>24</th>\n",
       "      <td>123.660453</td>\n",
       "      <td>103.259170</td>\n",
       "      <td>-20.401284</td>\n",
       "    </tr>\n",
       "    <tr>\n",
       "      <th>25</th>\n",
       "      <td>126.885812</td>\n",
       "      <td>104.440974</td>\n",
       "      <td>-22.444838</td>\n",
       "    </tr>\n",
       "    <tr>\n",
       "      <th>26</th>\n",
       "      <td>128.496115</td>\n",
       "      <td>104.639647</td>\n",
       "      <td>-23.856468</td>\n",
       "    </tr>\n",
       "    <tr>\n",
       "      <th>27</th>\n",
       "      <td>130.499971</td>\n",
       "      <td>104.757823</td>\n",
       "      <td>-25.742147</td>\n",
       "    </tr>\n",
       "    <tr>\n",
       "      <th>28</th>\n",
       "      <td>133.323962</td>\n",
       "      <td>104.877868</td>\n",
       "      <td>-28.446094</td>\n",
       "    </tr>\n",
       "    <tr>\n",
       "      <th>29</th>\n",
       "      <td>134.065456</td>\n",
       "      <td>105.663513</td>\n",
       "      <td>-28.401944</td>\n",
       "    </tr>\n",
       "    <tr>\n",
       "      <th>30</th>\n",
       "      <td>135.382230</td>\n",
       "      <td>106.596187</td>\n",
       "      <td>-28.786043</td>\n",
       "    </tr>\n",
       "    <tr>\n",
       "      <th>31</th>\n",
       "      <td>136.927011</td>\n",
       "      <td>106.865830</td>\n",
       "      <td>-30.061181</td>\n",
       "    </tr>\n",
       "    <tr>\n",
       "      <th>32</th>\n",
       "      <td>137.452118</td>\n",
       "      <td>107.695771</td>\n",
       "      <td>-29.756347</td>\n",
       "    </tr>\n",
       "    <tr>\n",
       "      <th>33</th>\n",
       "      <td>139.566750</td>\n",
       "      <td>108.590059</td>\n",
       "      <td>-30.976691</td>\n",
       "    </tr>\n",
       "    <tr>\n",
       "      <th>34</th>\n",
       "      <td>140.683276</td>\n",
       "      <td>112.475066</td>\n",
       "      <td>-28.208210</td>\n",
       "    </tr>\n",
       "    <tr>\n",
       "      <th>35</th>\n",
       "      <td>142.116238</td>\n",
       "      <td>113.281846</td>\n",
       "      <td>-28.834393</td>\n",
       "    </tr>\n",
       "    <tr>\n",
       "      <th>36</th>\n",
       "      <td>142.475077</td>\n",
       "      <td>113.459007</td>\n",
       "      <td>-29.016070</td>\n",
       "    </tr>\n",
       "    <tr>\n",
       "      <th>37</th>\n",
       "      <td>147.625708</td>\n",
       "      <td>115.518856</td>\n",
       "      <td>-32.106853</td>\n",
       "    </tr>\n",
       "    <tr>\n",
       "      <th>38</th>\n",
       "      <td>148.448909</td>\n",
       "      <td>116.371424</td>\n",
       "      <td>-32.077485</td>\n",
       "    </tr>\n",
       "    <tr>\n",
       "      <th>39</th>\n",
       "      <td>151.480060</td>\n",
       "      <td>120.529543</td>\n",
       "      <td>-30.950517</td>\n",
       "    </tr>\n",
       "  </tbody>\n",
       "</table>\n",
       "</div>"
      ],
      "text/plain": [
       "                 BG 1        BG 2  Difference\n",
       "Person ID                                    \n",
       "0           79.250358   73.749442   -5.500916\n",
       "1           96.597034   82.233706  -14.363328\n",
       "2           97.391662   83.178994  -14.212668\n",
       "3           97.437917   87.440005   -9.997912\n",
       "4           99.582073   87.637852  -11.944221\n",
       "5          106.973556   87.798634  -19.174922\n",
       "6          108.755841   90.425577  -18.330264\n",
       "7          109.856949   91.364563  -18.492386\n",
       "8          110.307037   92.284228  -18.022808\n",
       "9          111.015324   92.859387  -18.155937\n",
       "10         111.354548   94.473871  -16.880677\n",
       "11         111.530763   96.107012  -15.423751\n",
       "12         111.680026   98.595495  -13.084531\n",
       "13         112.867892   98.598082  -14.269809\n",
       "14         113.745639   98.668449  -15.077190\n",
       "15         114.263260   99.257202  -15.006058\n",
       "16         115.118794  100.419145  -14.699649\n",
       "17         115.269176  100.945361  -14.323814\n",
       "18         115.599247  101.080530  -14.518717\n",
       "19         120.393208  101.389965  -19.003242\n",
       "20         121.948551  101.535727  -20.412824\n",
       "21         122.530320  102.418184  -20.112136\n",
       "22         123.148471  102.809264  -20.339207\n",
       "23         123.569314  103.119240  -20.450074\n",
       "24         123.660453  103.259170  -20.401284\n",
       "25         126.885812  104.440974  -22.444838\n",
       "26         128.496115  104.639647  -23.856468\n",
       "27         130.499971  104.757823  -25.742147\n",
       "28         133.323962  104.877868  -28.446094\n",
       "29         134.065456  105.663513  -28.401944\n",
       "30         135.382230  106.596187  -28.786043\n",
       "31         136.927011  106.865830  -30.061181\n",
       "32         137.452118  107.695771  -29.756347\n",
       "33         139.566750  108.590059  -30.976691\n",
       "34         140.683276  112.475066  -28.208210\n",
       "35         142.116238  113.281846  -28.834393\n",
       "36         142.475077  113.459007  -29.016070\n",
       "37         147.625708  115.518856  -32.106853\n",
       "38         148.448909  116.371424  -32.077485\n",
       "39         151.480060  120.529543  -30.950517"
      ]
     },
     "execution_count": 2,
     "metadata": {},
     "output_type": "execute_result"
    }
   ],
   "source": [
    "def difference(a,b):\n",
    "    return b-a\n",
    "df['Difference']=df.apply(lambda row: difference(row['BG 1'], row['BG 2']), axis=1)\n",
    "df"
   ]
  },
  {
   "cell_type": "markdown",
   "metadata": {},
   "source": [
    "Calculating the mean and standard deviation of the differences gives"
   ]
  },
  {
   "cell_type": "code",
   "execution_count": 3,
   "metadata": {},
   "outputs": [
    {
     "data": {
      "text/markdown": [
       "$\\overline{d} = -20.797$"
      ],
      "text/plain": [
       "<IPython.core.display.Markdown object>"
      ]
     },
     "metadata": {},
     "output_type": "display_data"
    },
    {
     "data": {
      "text/markdown": [
       "$s_d = 6.997$"
      ],
      "text/plain": [
       "<IPython.core.display.Markdown object>"
      ]
     },
     "metadata": {},
     "output_type": "display_data"
    }
   ],
   "source": [
    "diff = df['Difference'].values\n",
    "\n",
    "d = diff.mean()\n",
    "std = diff.std(ddof=1)\n",
    "\n",
    "printmd('$\\overline{{d}} = {}$'.format(round(d,3)))\n",
    "printmd('$s_d = {}$'.format(round(std,3)))\n"
   ]
  },
  {
   "cell_type": "markdown",
   "metadata": {},
   "source": [
    "Now, calculate the corresponding test statistic   "
   ]
  },
  {
   "cell_type": "code",
   "execution_count": 4,
   "metadata": {},
   "outputs": [
    {
     "data": {
      "text/markdown": [
       "SE = 1.106"
      ],
      "text/plain": [
       "<IPython.core.display.Markdown object>"
      ]
     },
     "metadata": {},
     "output_type": "display_data"
    },
    {
     "data": {
      "text/markdown": [
       "$\\mu_1 = 121.23, \\mu_2 = 100.44$"
      ],
      "text/plain": [
       "<IPython.core.display.Markdown object>"
      ]
     },
     "metadata": {},
     "output_type": "display_data"
    }
   ],
   "source": [
    "SE = std/(len(df))**0.5\n",
    "DF = len(df)-1\n",
    "\n",
    "# Mean of sample 1:\n",
    "mu1 = df['BG 1'].values.mean()\n",
    "mu2 = df['BG 2'].values.mean()\n",
    "\n",
    "printmd('SE = {}'.format(round(SE,3)))\n",
    "printmd('$\\mu_1 = {}, \\mu_2 = {}$'.format(round(mu1,2),round(mu2,2)))\n",
    "\n",
    "TestStatistic = (mu2 - mu1)/SE\n"
   ]
  },
  {
   "cell_type": "code",
   "execution_count": 5,
   "metadata": {},
   "outputs": [
    {
     "data": {
      "text/markdown": [
       "t-score -18.8"
      ],
      "text/plain": [
       "<IPython.core.display.Markdown object>"
      ]
     },
     "metadata": {},
     "output_type": "display_data"
    },
    {
     "name": "stdout",
     "output_type": "stream",
     "text": [
      "p-value = 0.0\n"
     ]
    }
   ],
   "source": [
    "from scipy import stats\n",
    "pvalue = 2* stats.t.cdf(TestStatistic, DF)\n",
    "# Multiply by two, since this is two-tailed test\n",
    "\n",
    "printmd('t-score {}'.format(round(TestStatistic,2)))\n",
    "print(\"p-value = {}\".format(round(pvalue,5)))"
   ]
  },
  {
   "cell_type": "markdown",
   "metadata": {},
   "source": [
    "The probability value for t-statistic = -19.04 is virtually 0, hence we can reject the null hypothesis and tell that the two BG readings are significantly different."
   ]
  },
  {
   "cell_type": "markdown",
   "metadata": {},
   "source": [
    "<a id='scipy'></a>   \n",
    "## t-test with scipy    \n",
    "\n",
    "Let's repeat this test with scipy"
   ]
  },
  {
   "cell_type": "code",
   "execution_count": 6,
   "metadata": {},
   "outputs": [
    {
     "data": {
      "text/plain": [
       "Ttest_relResult(statistic=-18.797137420879686, pvalue=3.755792607215382e-21)"
      ]
     },
     "execution_count": 6,
     "metadata": {},
     "output_type": "execute_result"
    }
   ],
   "source": [
    "# Sample 1\n",
    "a = df['BG 2']\n",
    "b = df['BG 1']\n",
    "\n",
    "stats.ttest_rel(a,b)\n"
   ]
  }
 ],
 "metadata": {
  "kernelspec": {
   "display_name": "Python 3",
   "language": "python",
   "name": "python3"
  },
  "language_info": {
   "codemirror_mode": {
    "name": "ipython",
    "version": 3
   },
   "file_extension": ".py",
   "mimetype": "text/x-python",
   "name": "python",
   "nbconvert_exporter": "python",
   "pygments_lexer": "ipython3",
   "version": "3.6.1"
  }
 },
 "nbformat": 4,
 "nbformat_minor": 2
}
